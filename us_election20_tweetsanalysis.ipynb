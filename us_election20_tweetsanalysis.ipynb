{
  "nbformat": 4,
  "nbformat_minor": 0,
  "metadata": {
    "colab": {
      "name": "us-election20-tweetsanalysis.ipynb",
      "provenance": [],
      "collapsed_sections": [],
      "include_colab_link": true
    },
    "kernelspec": {
      "display_name": "Python 3",
      "language": "python",
      "name": "python3"
    },
    "language_info": {
      "codemirror_mode": {
        "name": "ipython",
        "version": 3
      },
      "file_extension": ".py",
      "mimetype": "text/x-python",
      "name": "python",
      "nbconvert_exporter": "python",
      "pygments_lexer": "ipython3",
      "version": "3.7.6"
    }
  },
  "cells": [
    {
      "cell_type": "markdown",
      "metadata": {
        "id": "view-in-github",
        "colab_type": "text"
      },
      "source": [
        "<a href=\"https://colab.research.google.com/github/imaswath/US-Election-20-Tweets-Sentiment-Analysis/blob/main/us_election20_tweetsanalysis.ipynb\" target=\"_parent\"><img src=\"https://colab.research.google.com/assets/colab-badge.svg\" alt=\"Open In Colab\"/></a>"
      ]
    },
    {
      "cell_type": "code",
      "metadata": {
        "id": "52jNLqT31YRX",
        "colab": {
          "base_uri": "https://localhost:8080/"
        },
        "outputId": "981fdb0f-b374-4e26-c941-a8656d3695b3"
      },
      "source": [
        "# Jovian Commit Essentials\n",
        "# Please retain and execute this cell without modifying the contents for `jovian.commit` to work\n",
        "!pip install jovian --upgrade -q\n",
        "import jovian\n",
        "jovian.set_project('us-election20-tweetsanalysis')\n",
        "jovian.set_colab_id('1lYN49JZjpjGuM_Lfmsag4WSf6l_FgHZ0')"
      ],
      "execution_count": 4,
      "outputs": [
        {
          "output_type": "stream",
          "text": [
            "\u001b[?25l\r\u001b[K     |████▊                           | 10 kB 25.9 MB/s eta 0:00:01\r\u001b[K     |█████████▌                      | 20 kB 29.6 MB/s eta 0:00:01\r\u001b[K     |██████████████▎                 | 30 kB 33.7 MB/s eta 0:00:01\r\u001b[K     |███████████████████             | 40 kB 38.1 MB/s eta 0:00:01\r\u001b[K     |███████████████████████▉        | 51 kB 32.4 MB/s eta 0:00:01\r\u001b[K     |████████████████████████████▋   | 61 kB 34.2 MB/s eta 0:00:01\r\u001b[K     |████████████████████████████████| 68 kB 5.4 MB/s \n",
            "\u001b[?25h  Building wheel for uuid (setup.py) ... \u001b[?25l\u001b[?25hdone\n"
          ],
          "name": "stdout"
        }
      ]
    },
    {
      "cell_type": "code",
      "metadata": {
        "id": "NgfSro-r1YRa"
      },
      "source": [
        "!pip install jovian --upgrade --quiet"
      ],
      "execution_count": 5,
      "outputs": []
    },
    {
      "cell_type": "code",
      "metadata": {
        "colab": {
          "base_uri": "https://localhost:8080/",
          "height": 120
        },
        "id": "zPajHyY01YRc",
        "outputId": "de5fc8ab-fd06-4ae0-c328-2ef760fbf74f"
      },
      "source": [
        "# Execute this to save new versions of the notebook\n",
        "jovian.commit(project=\"us-election20-tweetsanalysis\")"
      ],
      "execution_count": 6,
      "outputs": [
        {
          "output_type": "stream",
          "text": [
            "[jovian] Detected Colab notebook...\u001b[0m\n",
            "[jovian] Please enter your API key ( from https://jovian.ai/ ):\u001b[0m\n",
            "API KEY: ··········\n",
            "[jovian] Uploading colab notebook to Jovian...\u001b[0m\n",
            "Committed successfully! https://jovian.ai/im-aswath/us-election20-tweetsanalysis\n"
          ],
          "name": "stdout"
        },
        {
          "output_type": "execute_result",
          "data": {
            "application/vnd.google.colaboratory.intrinsic+json": {
              "type": "string"
            },
            "text/plain": [
              "'https://jovian.ai/im-aswath/us-election20-tweetsanalysis'"
            ]
          },
          "metadata": {
            "tags": []
          },
          "execution_count": 6
        }
      ]
    },
    {
      "cell_type": "markdown",
      "metadata": {
        "id": "sjV9zv4T2nJv"
      },
      "source": [
        "#**US Election 2020 Tweets Analysis**\n",
        "We've used the dataset from Kaggle and this has two separate CSV files of tweetsbased on the  hashtags #JoeBiden and #DonaldTrump for two major candidate on the run for US presidential election '20.This contains over 1.7M tweets.The data contains 21 columns.\n",
        "\n",
        "So we'll clean the data and perform sentiment analysis and I've used textBlob and Regex for it.We'll ask questions on it and answer them,which are quite basic in this case."
      ]
    },
    {
      "cell_type": "code",
      "metadata": {
        "id": "20Apyi7m1YRc"
      },
      "source": [
        "pip install opendatasets --upgrade --quiet\n"
      ],
      "execution_count": 7,
      "outputs": []
    },
    {
      "cell_type": "markdown",
      "metadata": {
        "id": "2uU5OJpPqjDa"
      },
      "source": [
        "Downloading the data from Kaggle using opendatasets by jovian."
      ]
    },
    {
      "cell_type": "code",
      "metadata": {
        "colab": {
          "base_uri": "https://localhost:8080/"
        },
        "id": "6xq7pYnE4CCv",
        "outputId": "70df4932-2e28-4920-dfff-a6d4326c5b1a"
      },
      "source": [
        "import opendatasets as od\n",
        "url='https://www.kaggle.com/manchunhui/us-election-2020-tweets'\n",
        "od.download(url)"
      ],
      "execution_count": 8,
      "outputs": [
        {
          "output_type": "stream",
          "text": [
            "Please provide your Kaggle credentials to download this dataset. Learn more: http://bit.ly/kaggle-creds\n",
            "Your Kaggle username: imaswath\n",
            "Your Kaggle Key: ··········\n"
          ],
          "name": "stdout"
        },
        {
          "output_type": "stream",
          "text": [
            "  2%|▏         | 8.00M/353M [00:00<00:04, 82.1MB/s]"
          ],
          "name": "stderr"
        },
        {
          "output_type": "stream",
          "text": [
            "Downloading us-election-2020-tweets.zip to ./us-election-2020-tweets\n"
          ],
          "name": "stdout"
        },
        {
          "output_type": "stream",
          "text": [
            "100%|██████████| 353M/353M [00:03<00:00, 115MB/s]"
          ],
          "name": "stderr"
        },
        {
          "output_type": "stream",
          "text": [
            "\n"
          ],
          "name": "stdout"
        },
        {
          "output_type": "stream",
          "text": [
            "\n"
          ],
          "name": "stderr"
        }
      ]
    },
    {
      "cell_type": "markdown",
      "metadata": {
        "id": "qj90TYCn4BtL"
      },
      "source": [
        "###**Data Preparation and Cleaning**\n"
      ]
    },
    {
      "cell_type": "markdown",
      "metadata": {
        "id": "KnnvMYlBqxM_"
      },
      "source": [
        "Importing the necessary modules/libraries"
      ]
    },
    {
      "cell_type": "code",
      "metadata": {
        "id": "AeRA80mQ4Bog"
      },
      "source": [
        "import pandas as pd\n",
        "import re \n",
        "import numpy as np\n",
        "from textblob import TextBlob \n",
        "from textblob import Word"
      ],
      "execution_count": 40,
      "outputs": []
    },
    {
      "cell_type": "code",
      "metadata": {
        "id": "jYBlpgr5qv9C"
      },
      "source": [
        "DT_df=pd.read_csv('/content/us-election-2020-tweets/hashtag_donaldtrump.csv', lineterminator='\\n', parse_dates=True)\n",
        "JB_df=pd.read_csv('/content/us-election-2020-tweets/hashtag_joebiden.csv',lineterminator='\\n',parse_dates=True)"
      ],
      "execution_count": 10,
      "outputs": []
    },
    {
      "cell_type": "code",
      "metadata": {
        "colab": {
          "base_uri": "https://localhost:8080/"
        },
        "id": "P3VO9My74Bhc",
        "outputId": "9f921e33-fbcd-4ace-d349-0acd5abfdb89"
      },
      "source": [
        "DT_df.columns"
      ],
      "execution_count": 11,
      "outputs": [
        {
          "output_type": "execute_result",
          "data": {
            "text/plain": [
              "Index(['created_at', 'tweet_id', 'tweet', 'likes', 'retweet_count', 'source',\n",
              "       'user_id', 'user_name', 'user_screen_name', 'user_description',\n",
              "       'user_join_date', 'user_followers_count', 'user_location', 'lat',\n",
              "       'long', 'city', 'country', 'continent', 'state', 'state_code',\n",
              "       'collected_at'],\n",
              "      dtype='object')"
            ]
          },
          "metadata": {
            "tags": []
          },
          "execution_count": 11
        }
      ]
    },
    {
      "cell_type": "code",
      "metadata": {
        "colab": {
          "base_uri": "https://localhost:8080/",
          "height": 830
        },
        "id": "iYUgZX7J4BYt",
        "outputId": "7de3672b-c64c-428c-e45c-f8d8c0407cc8"
      },
      "source": [
        "JB_df"
      ],
      "execution_count": 12,
      "outputs": [
        {
          "output_type": "execute_result",
          "data": {
            "text/html": [
              "<div>\n",
              "<style scoped>\n",
              "    .dataframe tbody tr th:only-of-type {\n",
              "        vertical-align: middle;\n",
              "    }\n",
              "\n",
              "    .dataframe tbody tr th {\n",
              "        vertical-align: top;\n",
              "    }\n",
              "\n",
              "    .dataframe thead th {\n",
              "        text-align: right;\n",
              "    }\n",
              "</style>\n",
              "<table border=\"1\" class=\"dataframe\">\n",
              "  <thead>\n",
              "    <tr style=\"text-align: right;\">\n",
              "      <th></th>\n",
              "      <th>created_at</th>\n",
              "      <th>tweet_id</th>\n",
              "      <th>tweet</th>\n",
              "      <th>likes</th>\n",
              "      <th>retweet_count</th>\n",
              "      <th>source</th>\n",
              "      <th>user_id</th>\n",
              "      <th>user_name</th>\n",
              "      <th>user_screen_name</th>\n",
              "      <th>user_description</th>\n",
              "      <th>user_join_date</th>\n",
              "      <th>user_followers_count</th>\n",
              "      <th>user_location</th>\n",
              "      <th>lat</th>\n",
              "      <th>long</th>\n",
              "      <th>city</th>\n",
              "      <th>country</th>\n",
              "      <th>continent</th>\n",
              "      <th>state</th>\n",
              "      <th>state_code</th>\n",
              "      <th>collected_at</th>\n",
              "    </tr>\n",
              "  </thead>\n",
              "  <tbody>\n",
              "    <tr>\n",
              "      <th>0</th>\n",
              "      <td>2020-10-15 00:00:01</td>\n",
              "      <td>1.316529e+18</td>\n",
              "      <td>#Elecciones2020 | En #Florida: #JoeBiden dice ...</td>\n",
              "      <td>0.0</td>\n",
              "      <td>0.0</td>\n",
              "      <td>TweetDeck</td>\n",
              "      <td>3.606665e+08</td>\n",
              "      <td>El Sol Latino News</td>\n",
              "      <td>elsollatinonews</td>\n",
              "      <td>🌐 Noticias de interés para latinos de la costa...</td>\n",
              "      <td>2011-08-23 15:33:45</td>\n",
              "      <td>1860.0</td>\n",
              "      <td>Philadelphia, PA / Miami, FL</td>\n",
              "      <td>25.774270</td>\n",
              "      <td>-80.193660</td>\n",
              "      <td>NaN</td>\n",
              "      <td>United States of America</td>\n",
              "      <td>North America</td>\n",
              "      <td>Florida</td>\n",
              "      <td>FL</td>\n",
              "      <td>2020-10-21 00:00:00</td>\n",
              "    </tr>\n",
              "    <tr>\n",
              "      <th>1</th>\n",
              "      <td>2020-10-15 00:00:18</td>\n",
              "      <td>1.316529e+18</td>\n",
              "      <td>#HunterBiden #HunterBidenEmails #JoeBiden #Joe...</td>\n",
              "      <td>0.0</td>\n",
              "      <td>0.0</td>\n",
              "      <td>Twitter for iPad</td>\n",
              "      <td>8.099044e+08</td>\n",
              "      <td>Cheri A. 🇺🇸</td>\n",
              "      <td>Biloximeemaw</td>\n",
              "      <td>Locked and loaded Meemaw. Love God, my family ...</td>\n",
              "      <td>2012-09-08 01:03:57</td>\n",
              "      <td>6628.0</td>\n",
              "      <td>NaN</td>\n",
              "      <td>NaN</td>\n",
              "      <td>NaN</td>\n",
              "      <td>NaN</td>\n",
              "      <td>NaN</td>\n",
              "      <td>NaN</td>\n",
              "      <td>NaN</td>\n",
              "      <td>NaN</td>\n",
              "      <td>2020-10-21 00:00:00.517827283</td>\n",
              "    </tr>\n",
              "    <tr>\n",
              "      <th>2</th>\n",
              "      <td>2020-10-15 00:00:20</td>\n",
              "      <td>1.316529e+18</td>\n",
              "      <td>@IslandGirlPRV @BradBeauregardJ @MeidasTouch T...</td>\n",
              "      <td>0.0</td>\n",
              "      <td>0.0</td>\n",
              "      <td>Twitter Web App</td>\n",
              "      <td>3.494182e+09</td>\n",
              "      <td>Flag Waver</td>\n",
              "      <td>Flag_Wavers</td>\n",
              "      <td>NaN</td>\n",
              "      <td>2015-08-30 19:38:21</td>\n",
              "      <td>1536.0</td>\n",
              "      <td>Golden Valley Arizona</td>\n",
              "      <td>46.304036</td>\n",
              "      <td>-109.171431</td>\n",
              "      <td>NaN</td>\n",
              "      <td>United States of America</td>\n",
              "      <td>North America</td>\n",
              "      <td>Montana</td>\n",
              "      <td>MT</td>\n",
              "      <td>2020-10-21 00:00:01.035654566</td>\n",
              "    </tr>\n",
              "    <tr>\n",
              "      <th>3</th>\n",
              "      <td>2020-10-15 00:00:21</td>\n",
              "      <td>1.316529e+18</td>\n",
              "      <td>@chrislongview Watching and setting dvr. Let’s...</td>\n",
              "      <td>0.0</td>\n",
              "      <td>0.0</td>\n",
              "      <td>Twitter for iPhone</td>\n",
              "      <td>8.242596e+17</td>\n",
              "      <td>Michelle Ferg</td>\n",
              "      <td>MichelleFerg4</td>\n",
              "      <td>NaN</td>\n",
              "      <td>2017-01-25 14:16:17</td>\n",
              "      <td>27.0</td>\n",
              "      <td>NaN</td>\n",
              "      <td>NaN</td>\n",
              "      <td>NaN</td>\n",
              "      <td>NaN</td>\n",
              "      <td>NaN</td>\n",
              "      <td>NaN</td>\n",
              "      <td>NaN</td>\n",
              "      <td>NaN</td>\n",
              "      <td>2020-10-21 00:00:01.553481849</td>\n",
              "    </tr>\n",
              "    <tr>\n",
              "      <th>4</th>\n",
              "      <td>2020-10-15 00:00:22</td>\n",
              "      <td>1.316529e+18</td>\n",
              "      <td>#censorship #HunterBiden #Biden #BidenEmails #...</td>\n",
              "      <td>1.0</td>\n",
              "      <td>0.0</td>\n",
              "      <td>Twitter Web App</td>\n",
              "      <td>1.032807e+18</td>\n",
              "      <td>the Gold State</td>\n",
              "      <td>theegoldstate</td>\n",
              "      <td>A Silicon Valley #independent #News #Media #St...</td>\n",
              "      <td>2018-08-24 01:49:01</td>\n",
              "      <td>390.0</td>\n",
              "      <td>California, USA</td>\n",
              "      <td>36.701463</td>\n",
              "      <td>-118.755997</td>\n",
              "      <td>NaN</td>\n",
              "      <td>United States of America</td>\n",
              "      <td>North America</td>\n",
              "      <td>California</td>\n",
              "      <td>CA</td>\n",
              "      <td>2020-10-21 00:00:02.071309132</td>\n",
              "    </tr>\n",
              "    <tr>\n",
              "      <th>...</th>\n",
              "      <td>...</td>\n",
              "      <td>...</td>\n",
              "      <td>...</td>\n",
              "      <td>...</td>\n",
              "      <td>...</td>\n",
              "      <td>...</td>\n",
              "      <td>...</td>\n",
              "      <td>...</td>\n",
              "      <td>...</td>\n",
              "      <td>...</td>\n",
              "      <td>...</td>\n",
              "      <td>...</td>\n",
              "      <td>...</td>\n",
              "      <td>...</td>\n",
              "      <td>...</td>\n",
              "      <td>...</td>\n",
              "      <td>...</td>\n",
              "      <td>...</td>\n",
              "      <td>...</td>\n",
              "      <td>...</td>\n",
              "      <td>...</td>\n",
              "    </tr>\n",
              "    <tr>\n",
              "      <th>776881</th>\n",
              "      <td>2020-11-08 23:59:38</td>\n",
              "      <td>1.325589e+18</td>\n",
              "      <td>Stop laying @CNN !\\n#Paris and #London dont gi...</td>\n",
              "      <td>0.0</td>\n",
              "      <td>0.0</td>\n",
              "      <td>Twitter for iPhone</td>\n",
              "      <td>3.873620e+08</td>\n",
              "      <td>flaquet</td>\n",
              "      <td>flaquet1</td>\n",
              "      <td>NaN</td>\n",
              "      <td>2011-10-08 22:42:56</td>\n",
              "      <td>27.0</td>\n",
              "      <td>PARIS</td>\n",
              "      <td>48.856697</td>\n",
              "      <td>2.351462</td>\n",
              "      <td>Paris</td>\n",
              "      <td>France</td>\n",
              "      <td>Europe</td>\n",
              "      <td>Ile-de-France</td>\n",
              "      <td>IDF</td>\n",
              "      <td>2020-11-09 18:32:45.613547</td>\n",
              "    </tr>\n",
              "    <tr>\n",
              "      <th>776882</th>\n",
              "      <td>2020-11-08 23:59:38</td>\n",
              "      <td>1.325589e+18</td>\n",
              "      <td>Ωχ ελπίζω να μη μας βγει  σαν τους οπαδούς του...</td>\n",
              "      <td>0.0</td>\n",
              "      <td>0.0</td>\n",
              "      <td>Twitter for Android</td>\n",
              "      <td>4.032819e+08</td>\n",
              "      <td>οχι άλλο κάρβουνο 🇬🇷🗣🗣🗣</td>\n",
              "      <td>anapodoi</td>\n",
              "      <td>ακραία καιρικά φαινόμενα... ζήσαμε και απόψε</td>\n",
              "      <td>2011-11-02 08:39:46</td>\n",
              "      <td>772.0</td>\n",
              "      <td>NaN</td>\n",
              "      <td>NaN</td>\n",
              "      <td>NaN</td>\n",
              "      <td>NaN</td>\n",
              "      <td>NaN</td>\n",
              "      <td>NaN</td>\n",
              "      <td>NaN</td>\n",
              "      <td>NaN</td>\n",
              "      <td>2020-11-09 18:32:45.947617</td>\n",
              "    </tr>\n",
              "    <tr>\n",
              "      <th>776883</th>\n",
              "      <td>2020-11-08 23:59:41</td>\n",
              "      <td>1.325589e+18</td>\n",
              "      <td>L'OTAN va sortir de sa léthargie et redevenir ...</td>\n",
              "      <td>48.0</td>\n",
              "      <td>14.0</td>\n",
              "      <td>Twitter for Android</td>\n",
              "      <td>7.819183e+17</td>\n",
              "      <td>🇫🇷 Alt-Droite (matricule 6921) ✝️ 🇬🇷 🇮🇹 🇦🇲</td>\n",
              "      <td>CtrlAltDroite</td>\n",
              "      <td>Fils de mineur. Libertés - Identité - Solidari...</td>\n",
              "      <td>2016-09-30 18:06:56</td>\n",
              "      <td>15806.0</td>\n",
              "      <td>France</td>\n",
              "      <td>46.603354</td>\n",
              "      <td>1.888334</td>\n",
              "      <td>NaN</td>\n",
              "      <td>France</td>\n",
              "      <td>Europe</td>\n",
              "      <td>NaN</td>\n",
              "      <td>NaN</td>\n",
              "      <td>2020-11-09 18:32:45.627335</td>\n",
              "    </tr>\n",
              "    <tr>\n",
              "      <th>776884</th>\n",
              "      <td>2020-11-08 23:59:52</td>\n",
              "      <td>1.325589e+18</td>\n",
              "      <td>🌎\\n\\n“#congiuntifuoriregione”\\n\\n‘Sono felice ...</td>\n",
              "      <td>1.0</td>\n",
              "      <td>1.0</td>\n",
              "      <td>Twitter for iPhone</td>\n",
              "      <td>5.293315e+08</td>\n",
              "      <td>Angelo Tani</td>\n",
              "      <td>AngeloTani</td>\n",
              "      <td>nato a casa dei nonni</td>\n",
              "      <td>2012-03-19 12:07:06</td>\n",
              "      <td>5974.0</td>\n",
              "      <td>🌎</td>\n",
              "      <td>NaN</td>\n",
              "      <td>NaN</td>\n",
              "      <td>NaN</td>\n",
              "      <td>NaN</td>\n",
              "      <td>NaN</td>\n",
              "      <td>NaN</td>\n",
              "      <td>NaN</td>\n",
              "      <td>2020-11-09 18:32:45.599846</td>\n",
              "    </tr>\n",
              "    <tr>\n",
              "      <th>776885</th>\n",
              "      <td>2020-11-08 23:59:58</td>\n",
              "      <td>1.325589e+18</td>\n",
              "      <td>Ik moet zeggen dat ik #Biden \"the lesser of tw...</td>\n",
              "      <td>0.0</td>\n",
              "      <td>0.0</td>\n",
              "      <td>Twitter for Android</td>\n",
              "      <td>5.863863e+08</td>\n",
              "      <td>Job</td>\n",
              "      <td>_JobO__</td>\n",
              "      <td>-voeg hier uw interessante bio toe-</td>\n",
              "      <td>2012-05-21 06:30:14</td>\n",
              "      <td>119.0</td>\n",
              "      <td>NaN</td>\n",
              "      <td>NaN</td>\n",
              "      <td>NaN</td>\n",
              "      <td>NaN</td>\n",
              "      <td>NaN</td>\n",
              "      <td>NaN</td>\n",
              "      <td>NaN</td>\n",
              "      <td>NaN</td>\n",
              "      <td>2020-11-09 18:32:45.747707</td>\n",
              "    </tr>\n",
              "  </tbody>\n",
              "</table>\n",
              "<p>776886 rows × 21 columns</p>\n",
              "</div>"
            ],
            "text/plain": [
              "                 created_at  ...                   collected_at\n",
              "0       2020-10-15 00:00:01  ...            2020-10-21 00:00:00\n",
              "1       2020-10-15 00:00:18  ...  2020-10-21 00:00:00.517827283\n",
              "2       2020-10-15 00:00:20  ...  2020-10-21 00:00:01.035654566\n",
              "3       2020-10-15 00:00:21  ...  2020-10-21 00:00:01.553481849\n",
              "4       2020-10-15 00:00:22  ...  2020-10-21 00:00:02.071309132\n",
              "...                     ...  ...                            ...\n",
              "776881  2020-11-08 23:59:38  ...     2020-11-09 18:32:45.613547\n",
              "776882  2020-11-08 23:59:38  ...     2020-11-09 18:32:45.947617\n",
              "776883  2020-11-08 23:59:41  ...     2020-11-09 18:32:45.627335\n",
              "776884  2020-11-08 23:59:52  ...     2020-11-09 18:32:45.599846\n",
              "776885  2020-11-08 23:59:58  ...     2020-11-09 18:32:45.747707\n",
              "\n",
              "[776886 rows x 21 columns]"
            ]
          },
          "metadata": {
            "tags": []
          },
          "execution_count": 12
        }
      ]
    },
    {
      "cell_type": "markdown",
      "metadata": {
        "id": "ex2wfQxorUsr"
      },
      "source": [
        "We will now find the percent of columns that have missing data and remove them in case if they cannot be used."
      ]
    },
    {
      "cell_type": "code",
      "metadata": {
        "colab": {
          "base_uri": "https://localhost:8080/",
          "height": 265
        },
        "id": "oUyA9EDxjz8w",
        "outputId": "f0595c9d-23cb-4ca3-8c07-557073f3587b"
      },
      "source": [
        "DT_miss_perc=DT_df.isna().sum().sort_values(ascending=False)/len(DT_df)\n",
        "DT_miss_perc.plot(kind='barh');"
      ],
      "execution_count": 13,
      "outputs": [
        {
          "output_type": "display_data",
          "data": {
            "image/png": "[encoded data removed]",
            "text/plain": [
              "<Figure size 432x288 with 1 Axes>"
            ]
          },
          "metadata": {
            "tags": [],
            "needs_background": "light"
          }
        }
      ]
    },
    {
      "cell_type": "code",
      "metadata": {
        "colab": {
          "base_uri": "https://localhost:8080/",
          "height": 265
        },
        "id": "wzfIyUHTG8gW",
        "outputId": "4858612e-f699-4bce-ecbd-84799fd6a871"
      },
      "source": [
        "JB_miss_perc=DT_df.isna().sum().sort_values(ascending=False)/len(JB_df)\n",
        "JB_miss_perc.plot(kind='barh');"
      ],
      "execution_count": 14,
      "outputs": [
        {
          "output_type": "display_data",
          "data": {
            "image/png": "[encoded data removed]",
            "text/plain": [
              "<Figure size 432x288 with 1 Axes>"
            ]
          },
          "metadata": {
            "tags": [],
            "needs_background": "light"
          }
        }
      ]
    },
    {
      "cell_type": "markdown",
      "metadata": {
        "id": "VXHNkwEunrH5"
      },
      "source": [
        "Columns which have more than 50%  of values missing may not be much useful to the analysis,so we'll remove 'lat','long','continent','state_code','city','country','state' from the both dataframes for a cleaner data."
      ]
    },
    {
      "cell_type": "code",
      "metadata": {
        "id": "vpV7SCnCjz6x"
      },
      "source": [
        "DT_df=DT_df.drop(['lat','long','continent','state_code','city','country','state'],axis=1)\n",
        "JB_df=JB_df.drop(['lat','long','continent','state_code','city','country','state'],axis=1)\n"
      ],
      "execution_count": 15,
      "outputs": []
    },
    {
      "cell_type": "code",
      "metadata": {
        "colab": {
          "base_uri": "https://localhost:8080/"
        },
        "id": "yzdKBfiXIKiR",
        "outputId": "989ed0ac-7bec-46a9-b49f-f9313967d07f"
      },
      "source": [
        "DT_df.columns"
      ],
      "execution_count": 16,
      "outputs": [
        {
          "output_type": "execute_result",
          "data": {
            "text/plain": [
              "Index(['created_at', 'tweet_id', 'tweet', 'likes', 'retweet_count', 'source',\n",
              "       'user_id', 'user_name', 'user_screen_name', 'user_description',\n",
              "       'user_join_date', 'user_followers_count', 'user_location',\n",
              "       'collected_at'],\n",
              "      dtype='object')"
            ]
          },
          "metadata": {
            "tags": []
          },
          "execution_count": 16
        }
      ]
    },
    {
      "cell_type": "code",
      "metadata": {
        "colab": {
          "base_uri": "https://localhost:8080/"
        },
        "id": "f8y_jVR8IQeH",
        "outputId": "9f01f119-b7c5-4737-f5e4-72bee406ab47"
      },
      "source": [
        "JB_df.columns"
      ],
      "execution_count": 17,
      "outputs": [
        {
          "output_type": "execute_result",
          "data": {
            "text/plain": [
              "Index(['created_at', 'tweet_id', 'tweet', 'likes', 'retweet_count', 'source',\n",
              "       'user_id', 'user_name', 'user_screen_name', 'user_description',\n",
              "       'user_join_date', 'user_followers_count', 'user_location',\n",
              "       'collected_at'],\n",
              "      dtype='object')"
            ]
          },
          "metadata": {
            "tags": []
          },
          "execution_count": 17
        }
      ]
    },
    {
      "cell_type": "markdown",
      "metadata": {
        "id": "ofpU60YV9xRl"
      },
      "source": [
        "###**Sentiment Analysis**\n",
        "We'll now clean the tweets.,getting rid of the RTs,mentions and hyperlinks embedded in them,so it would be easier for a sentiment analysis.\n",
        "\n",
        "We will be using Regex module for this."
      ]
    },
    {
      "cell_type": "code",
      "metadata": {
        "id": "NFBTwme2jzvG"
      },
      "source": [
        "def clean_twt(txt):\n",
        "  txt=re.sub(r'@[A-Za-z0-9]+','',txt)\n",
        "  txt=re.sub(r'#','',txt)\n",
        "  txt=re.sub(r'RT[\\s+]','',txt)\n",
        "  txt=re.sub(r'https?://S+','',txt)\n",
        "  return txt"
      ],
      "execution_count": 18,
      "outputs": []
    },
    {
      "cell_type": "code",
      "metadata": {
        "id": "UEZPUleYjzsq"
      },
      "source": [
        "DT_df['tweet']=DT_df['tweet'].apply(clean_twt)\n",
        "JB_df['tweet']=JB_df['tweet'].apply(clean_twt)"
      ],
      "execution_count": 19,
      "outputs": []
    },
    {
      "cell_type": "code",
      "metadata": {
        "colab": {
          "base_uri": "https://localhost:8080/",
          "height": 983
        },
        "id": "QYBbJmPHjzqi",
        "outputId": "86986098-38fd-4050-9854-40e400dead17"
      },
      "source": [
        "DT_df"
      ],
      "execution_count": 20,
      "outputs": [
        {
          "output_type": "execute_result",
          "data": {
            "text/html": [
              "<div>\n",
              "<style scoped>\n",
              "    .dataframe tbody tr th:only-of-type {\n",
              "        vertical-align: middle;\n",
              "    }\n",
              "\n",
              "    .dataframe tbody tr th {\n",
              "        vertical-align: top;\n",
              "    }\n",
              "\n",
              "    .dataframe thead th {\n",
              "        text-align: right;\n",
              "    }\n",
              "</style>\n",
              "<table border=\"1\" class=\"dataframe\">\n",
              "  <thead>\n",
              "    <tr style=\"text-align: right;\">\n",
              "      <th></th>\n",
              "      <th>created_at</th>\n",
              "      <th>tweet_id</th>\n",
              "      <th>tweet</th>\n",
              "      <th>likes</th>\n",
              "      <th>retweet_count</th>\n",
              "      <th>source</th>\n",
              "      <th>user_id</th>\n",
              "      <th>user_name</th>\n",
              "      <th>user_screen_name</th>\n",
              "      <th>user_description</th>\n",
              "      <th>user_join_date</th>\n",
              "      <th>user_followers_count</th>\n",
              "      <th>user_location</th>\n",
              "      <th>collected_at</th>\n",
              "    </tr>\n",
              "  </thead>\n",
              "  <tbody>\n",
              "    <tr>\n",
              "      <th>0</th>\n",
              "      <td>2020-10-15 00:00:01</td>\n",
              "      <td>1.316529e+18</td>\n",
              "      <td>Elecciones2020 | En Florida: JoeBiden dice que...</td>\n",
              "      <td>0.0</td>\n",
              "      <td>0.0</td>\n",
              "      <td>TweetDeck</td>\n",
              "      <td>3.606665e+08</td>\n",
              "      <td>El Sol Latino News</td>\n",
              "      <td>elsollatinonews</td>\n",
              "      <td>🌐 Noticias de interés para latinos de la costa...</td>\n",
              "      <td>2011-08-23 15:33:45</td>\n",
              "      <td>1860.0</td>\n",
              "      <td>Philadelphia, PA / Miami, FL</td>\n",
              "      <td>2020-10-21 00:00:00</td>\n",
              "    </tr>\n",
              "    <tr>\n",
              "      <th>1</th>\n",
              "      <td>2020-10-15 00:00:01</td>\n",
              "      <td>1.316529e+18</td>\n",
              "      <td>Usa 2020, Trump contro Facebook e Twitter: cop...</td>\n",
              "      <td>26.0</td>\n",
              "      <td>9.0</td>\n",
              "      <td>Social Mediaset</td>\n",
              "      <td>3.316176e+08</td>\n",
              "      <td>Tgcom24</td>\n",
              "      <td>MediasetTgcom24</td>\n",
              "      <td>Profilo ufficiale di Tgcom24: tutte le notizie...</td>\n",
              "      <td>2011-07-08 13:12:20</td>\n",
              "      <td>1067661.0</td>\n",
              "      <td>NaN</td>\n",
              "      <td>2020-10-21 00:00:00.373216530</td>\n",
              "    </tr>\n",
              "    <tr>\n",
              "      <th>2</th>\n",
              "      <td>2020-10-15 00:00:02</td>\n",
              "      <td>1.316529e+18</td>\n",
              "      <td>Trump: As a student I used to hear for years, ...</td>\n",
              "      <td>2.0</td>\n",
              "      <td>1.0</td>\n",
              "      <td>Twitter Web App</td>\n",
              "      <td>8.436472e+06</td>\n",
              "      <td>snarke</td>\n",
              "      <td>snarke</td>\n",
              "      <td>Will mock for food! Freelance writer, blogger,...</td>\n",
              "      <td>2007-08-26 05:56:11</td>\n",
              "      <td>1185.0</td>\n",
              "      <td>Portland</td>\n",
              "      <td>2020-10-21 00:00:00.746433060</td>\n",
              "    </tr>\n",
              "    <tr>\n",
              "      <th>3</th>\n",
              "      <td>2020-10-15 00:00:02</td>\n",
              "      <td>1.316529e+18</td>\n",
              "      <td>2 hours since last tweet from Trump! Maybe he ...</td>\n",
              "      <td>0.0</td>\n",
              "      <td>0.0</td>\n",
              "      <td>Trumpytweeter</td>\n",
              "      <td>8.283556e+17</td>\n",
              "      <td>Trumpytweeter</td>\n",
              "      <td>trumpytweeter</td>\n",
              "      <td>If he doesn't tweet for some time, should we b...</td>\n",
              "      <td>2017-02-05 21:32:17</td>\n",
              "      <td>32.0</td>\n",
              "      <td>NaN</td>\n",
              "      <td>2020-10-21 00:00:01.119649591</td>\n",
              "    </tr>\n",
              "    <tr>\n",
              "      <th>4</th>\n",
              "      <td>2020-10-15 00:00:08</td>\n",
              "      <td>1.316529e+18</td>\n",
              "      <td>You get a tie! And you get a tie! Trump ‘s ral...</td>\n",
              "      <td>4.0</td>\n",
              "      <td>3.0</td>\n",
              "      <td>Twitter for iPhone</td>\n",
              "      <td>4.741380e+07</td>\n",
              "      <td>Rana Abtar - رنا أبتر</td>\n",
              "      <td>Ranaabtar</td>\n",
              "      <td>Washington Correspondent, Lebanese-American ,c...</td>\n",
              "      <td>2009-06-15 19:05:35</td>\n",
              "      <td>5393.0</td>\n",
              "      <td>Washington DC</td>\n",
              "      <td>2020-10-21 00:00:01.492866121</td>\n",
              "    </tr>\n",
              "    <tr>\n",
              "      <th>...</th>\n",
              "      <td>...</td>\n",
              "      <td>...</td>\n",
              "      <td>...</td>\n",
              "      <td>...</td>\n",
              "      <td>...</td>\n",
              "      <td>...</td>\n",
              "      <td>...</td>\n",
              "      <td>...</td>\n",
              "      <td>...</td>\n",
              "      <td>...</td>\n",
              "      <td>...</td>\n",
              "      <td>...</td>\n",
              "      <td>...</td>\n",
              "      <td>...</td>\n",
              "    </tr>\n",
              "    <tr>\n",
              "      <th>970914</th>\n",
              "      <td>2020-11-08 23:59:43</td>\n",
              "      <td>1.325589e+18</td>\n",
              "      <td>_  _Pazderski Sagten Sie nicht Sie wären kei...</td>\n",
              "      <td>0.0</td>\n",
              "      <td>0.0</td>\n",
              "      <td>Twitter Web App</td>\n",
              "      <td>3.427951e+09</td>\n",
              "      <td>Alexander P. Vogt</td>\n",
              "      <td>APVogt</td>\n",
              "      <td>Wenn das Aussprechen der Wahrheit »den Falsche...</td>\n",
              "      <td>2015-08-17 12:37:12</td>\n",
              "      <td>2106.0</td>\n",
              "      <td>NaN</td>\n",
              "      <td>2020-11-09 17:47:56.036006</td>\n",
              "    </tr>\n",
              "    <tr>\n",
              "      <th>970915</th>\n",
              "      <td>2020-11-08 23:59:48</td>\n",
              "      <td>1.325589e+18</td>\n",
              "      <td>JOE BIDEN WHY JOE BIDEN DID WINNED ?? TRUMP TR...</td>\n",
              "      <td>4.0</td>\n",
              "      <td>0.0</td>\n",
              "      <td>Twitter Web App</td>\n",
              "      <td>3.245258e+09</td>\n",
              "      <td>ahzy</td>\n",
              "      <td>ahhhzy</td>\n",
              "      <td>NaN</td>\n",
              "      <td>2015-05-10 19:56:37</td>\n",
              "      <td>19.0</td>\n",
              "      <td>NaN</td>\n",
              "      <td>2020-11-09 17:47:55.715870</td>\n",
              "    </tr>\n",
              "    <tr>\n",
              "      <th>970916</th>\n",
              "      <td>2020-11-08 23:59:53</td>\n",
              "      <td>1.325589e+18</td>\n",
              "      <td>AfD|ler reagieren panisch bis hysterisch auf d...</td>\n",
              "      <td>25.0</td>\n",
              "      <td>4.0</td>\n",
              "      <td>Twitter Web App</td>\n",
              "      <td>9.866108e+17</td>\n",
              "      <td>watchdog</td>\n",
              "      <td>wilke_tobias</td>\n",
              "      <td>Quis custodiet ipsos custodes?\\n\\nTV Journalis...</td>\n",
              "      <td>2018-04-18 14:21:49</td>\n",
              "      <td>3014.0</td>\n",
              "      <td>Saxony/GER</td>\n",
              "      <td>2020-11-09 17:47:55.975868</td>\n",
              "    </tr>\n",
              "    <tr>\n",
              "      <th>970917</th>\n",
              "      <td>2020-11-08 23:59:54</td>\n",
              "      <td>1.325589e+18</td>\n",
              "      <td>First, you would need to compare that to pr...</td>\n",
              "      <td>0.0</td>\n",
              "      <td>0.0</td>\n",
              "      <td>Twitter for iPad</td>\n",
              "      <td>7.687811e+08</td>\n",
              "      <td>Debra</td>\n",
              "      <td>drdeblk</td>\n",
              "      <td>MD. Autism specialist. Film lover. #DumpTrump2020</td>\n",
              "      <td>2012-08-20 03:53:11</td>\n",
              "      <td>1079.0</td>\n",
              "      <td>NaN</td>\n",
              "      <td>2020-11-09 17:47:56.012674</td>\n",
              "    </tr>\n",
              "    <tr>\n",
              "      <th>970918</th>\n",
              "      <td>2020-11-08 23:59:55</td>\n",
              "      <td>1.325589e+18</td>\n",
              "      <td>OK just had to do it !\\nTrump CatapultTrump ht...</td>\n",
              "      <td>105.0</td>\n",
              "      <td>28.0</td>\n",
              "      <td>Twitter Web App</td>\n",
              "      <td>4.519791e+08</td>\n",
              "      <td>Dunken K Bliths</td>\n",
              "      <td>DunkenKBliths</td>\n",
              "      <td>\"Tesla owner's will be followed back\"\\n\\n#Mach...</td>\n",
              "      <td>2012-01-01 08:04:29</td>\n",
              "      <td>12192.0</td>\n",
              "      <td>✔ Official Twitter Account</td>\n",
              "      <td>2020-11-09 17:47:55.807500</td>\n",
              "    </tr>\n",
              "  </tbody>\n",
              "</table>\n",
              "<p>970919 rows × 14 columns</p>\n",
              "</div>"
            ],
            "text/plain": [
              "                 created_at  ...                   collected_at\n",
              "0       2020-10-15 00:00:01  ...            2020-10-21 00:00:00\n",
              "1       2020-10-15 00:00:01  ...  2020-10-21 00:00:00.373216530\n",
              "2       2020-10-15 00:00:02  ...  2020-10-21 00:00:00.746433060\n",
              "3       2020-10-15 00:00:02  ...  2020-10-21 00:00:01.119649591\n",
              "4       2020-10-15 00:00:08  ...  2020-10-21 00:00:01.492866121\n",
              "...                     ...  ...                            ...\n",
              "970914  2020-11-08 23:59:43  ...     2020-11-09 17:47:56.036006\n",
              "970915  2020-11-08 23:59:48  ...     2020-11-09 17:47:55.715870\n",
              "970916  2020-11-08 23:59:53  ...     2020-11-09 17:47:55.975868\n",
              "970917  2020-11-08 23:59:54  ...     2020-11-09 17:47:56.012674\n",
              "970918  2020-11-08 23:59:55  ...     2020-11-09 17:47:55.807500\n",
              "\n",
              "[970919 rows x 14 columns]"
            ]
          },
          "metadata": {
            "tags": []
          },
          "execution_count": 20
        }
      ]
    },
    {
      "cell_type": "code",
      "metadata": {
        "colab": {
          "base_uri": "https://localhost:8080/",
          "height": 779
        },
        "id": "4DupEnZyjzl-",
        "outputId": "a3b29985-d156-475c-8bd2-8a28ec1b0d26"
      },
      "source": [
        "JB_df"
      ],
      "execution_count": 21,
      "outputs": [
        {
          "output_type": "execute_result",
          "data": {
            "text/html": [
              "<div>\n",
              "<style scoped>\n",
              "    .dataframe tbody tr th:only-of-type {\n",
              "        vertical-align: middle;\n",
              "    }\n",
              "\n",
              "    .dataframe tbody tr th {\n",
              "        vertical-align: top;\n",
              "    }\n",
              "\n",
              "    .dataframe thead th {\n",
              "        text-align: right;\n",
              "    }\n",
              "</style>\n",
              "<table border=\"1\" class=\"dataframe\">\n",
              "  <thead>\n",
              "    <tr style=\"text-align: right;\">\n",
              "      <th></th>\n",
              "      <th>created_at</th>\n",
              "      <th>tweet_id</th>\n",
              "      <th>tweet</th>\n",
              "      <th>likes</th>\n",
              "      <th>retweet_count</th>\n",
              "      <th>source</th>\n",
              "      <th>user_id</th>\n",
              "      <th>user_name</th>\n",
              "      <th>user_screen_name</th>\n",
              "      <th>user_description</th>\n",
              "      <th>user_join_date</th>\n",
              "      <th>user_followers_count</th>\n",
              "      <th>user_location</th>\n",
              "      <th>collected_at</th>\n",
              "    </tr>\n",
              "  </thead>\n",
              "  <tbody>\n",
              "    <tr>\n",
              "      <th>0</th>\n",
              "      <td>2020-10-15 00:00:01</td>\n",
              "      <td>1.316529e+18</td>\n",
              "      <td>Elecciones2020 | En Florida: JoeBiden dice que...</td>\n",
              "      <td>0.0</td>\n",
              "      <td>0.0</td>\n",
              "      <td>TweetDeck</td>\n",
              "      <td>3.606665e+08</td>\n",
              "      <td>El Sol Latino News</td>\n",
              "      <td>elsollatinonews</td>\n",
              "      <td>🌐 Noticias de interés para latinos de la costa...</td>\n",
              "      <td>2011-08-23 15:33:45</td>\n",
              "      <td>1860.0</td>\n",
              "      <td>Philadelphia, PA / Miami, FL</td>\n",
              "      <td>2020-10-21 00:00:00</td>\n",
              "    </tr>\n",
              "    <tr>\n",
              "      <th>1</th>\n",
              "      <td>2020-10-15 00:00:18</td>\n",
              "      <td>1.316529e+18</td>\n",
              "      <td>HunterBiden HunterBidenEmails JoeBiden JoeBide...</td>\n",
              "      <td>0.0</td>\n",
              "      <td>0.0</td>\n",
              "      <td>Twitter for iPad</td>\n",
              "      <td>8.099044e+08</td>\n",
              "      <td>Cheri A. 🇺🇸</td>\n",
              "      <td>Biloximeemaw</td>\n",
              "      <td>Locked and loaded Meemaw. Love God, my family ...</td>\n",
              "      <td>2012-09-08 01:03:57</td>\n",
              "      <td>6628.0</td>\n",
              "      <td>NaN</td>\n",
              "      <td>2020-10-21 00:00:00.517827283</td>\n",
              "    </tr>\n",
              "    <tr>\n",
              "      <th>2</th>\n",
              "      <td>2020-10-15 00:00:20</td>\n",
              "      <td>1.316529e+18</td>\n",
              "      <td>This is how Biden made his ! TrumpIsNotAmer...</td>\n",
              "      <td>0.0</td>\n",
              "      <td>0.0</td>\n",
              "      <td>Twitter Web App</td>\n",
              "      <td>3.494182e+09</td>\n",
              "      <td>Flag Waver</td>\n",
              "      <td>Flag_Wavers</td>\n",
              "      <td>NaN</td>\n",
              "      <td>2015-08-30 19:38:21</td>\n",
              "      <td>1536.0</td>\n",
              "      <td>Golden Valley Arizona</td>\n",
              "      <td>2020-10-21 00:00:01.035654566</td>\n",
              "    </tr>\n",
              "    <tr>\n",
              "      <th>3</th>\n",
              "      <td>2020-10-15 00:00:21</td>\n",
              "      <td>1.316529e+18</td>\n",
              "      <td>Watching and setting dvr. Let’s give him bonu...</td>\n",
              "      <td>0.0</td>\n",
              "      <td>0.0</td>\n",
              "      <td>Twitter for iPhone</td>\n",
              "      <td>8.242596e+17</td>\n",
              "      <td>Michelle Ferg</td>\n",
              "      <td>MichelleFerg4</td>\n",
              "      <td>NaN</td>\n",
              "      <td>2017-01-25 14:16:17</td>\n",
              "      <td>27.0</td>\n",
              "      <td>NaN</td>\n",
              "      <td>2020-10-21 00:00:01.553481849</td>\n",
              "    </tr>\n",
              "    <tr>\n",
              "      <th>4</th>\n",
              "      <td>2020-10-15 00:00:22</td>\n",
              "      <td>1.316529e+18</td>\n",
              "      <td>censorship HunterBiden Biden BidenEmails Biden...</td>\n",
              "      <td>1.0</td>\n",
              "      <td>0.0</td>\n",
              "      <td>Twitter Web App</td>\n",
              "      <td>1.032807e+18</td>\n",
              "      <td>the Gold State</td>\n",
              "      <td>theegoldstate</td>\n",
              "      <td>A Silicon Valley #independent #News #Media #St...</td>\n",
              "      <td>2018-08-24 01:49:01</td>\n",
              "      <td>390.0</td>\n",
              "      <td>California, USA</td>\n",
              "      <td>2020-10-21 00:00:02.071309132</td>\n",
              "    </tr>\n",
              "    <tr>\n",
              "      <th>...</th>\n",
              "      <td>...</td>\n",
              "      <td>...</td>\n",
              "      <td>...</td>\n",
              "      <td>...</td>\n",
              "      <td>...</td>\n",
              "      <td>...</td>\n",
              "      <td>...</td>\n",
              "      <td>...</td>\n",
              "      <td>...</td>\n",
              "      <td>...</td>\n",
              "      <td>...</td>\n",
              "      <td>...</td>\n",
              "      <td>...</td>\n",
              "      <td>...</td>\n",
              "    </tr>\n",
              "    <tr>\n",
              "      <th>776881</th>\n",
              "      <td>2020-11-08 23:59:38</td>\n",
              "      <td>1.325589e+18</td>\n",
              "      <td>Stop laying  !\\nParis and London dont give a f...</td>\n",
              "      <td>0.0</td>\n",
              "      <td>0.0</td>\n",
              "      <td>Twitter for iPhone</td>\n",
              "      <td>3.873620e+08</td>\n",
              "      <td>flaquet</td>\n",
              "      <td>flaquet1</td>\n",
              "      <td>NaN</td>\n",
              "      <td>2011-10-08 22:42:56</td>\n",
              "      <td>27.0</td>\n",
              "      <td>PARIS</td>\n",
              "      <td>2020-11-09 18:32:45.613547</td>\n",
              "    </tr>\n",
              "    <tr>\n",
              "      <th>776882</th>\n",
              "      <td>2020-11-08 23:59:38</td>\n",
              "      <td>1.325589e+18</td>\n",
              "      <td>Ωχ ελπίζω να μη μας βγει  σαν τους οπαδούς του...</td>\n",
              "      <td>0.0</td>\n",
              "      <td>0.0</td>\n",
              "      <td>Twitter for Android</td>\n",
              "      <td>4.032819e+08</td>\n",
              "      <td>οχι άλλο κάρβουνο 🇬🇷🗣🗣🗣</td>\n",
              "      <td>anapodoi</td>\n",
              "      <td>ακραία καιρικά φαινόμενα... ζήσαμε και απόψε</td>\n",
              "      <td>2011-11-02 08:39:46</td>\n",
              "      <td>772.0</td>\n",
              "      <td>NaN</td>\n",
              "      <td>2020-11-09 18:32:45.947617</td>\n",
              "    </tr>\n",
              "    <tr>\n",
              "      <th>776883</th>\n",
              "      <td>2020-11-08 23:59:41</td>\n",
              "      <td>1.325589e+18</td>\n",
              "      <td>L'OTAN va sortir de sa léthargie et redevenir ...</td>\n",
              "      <td>48.0</td>\n",
              "      <td>14.0</td>\n",
              "      <td>Twitter for Android</td>\n",
              "      <td>7.819183e+17</td>\n",
              "      <td>🇫🇷 Alt-Droite (matricule 6921) ✝️ 🇬🇷 🇮🇹 🇦🇲</td>\n",
              "      <td>CtrlAltDroite</td>\n",
              "      <td>Fils de mineur. Libertés - Identité - Solidari...</td>\n",
              "      <td>2016-09-30 18:06:56</td>\n",
              "      <td>15806.0</td>\n",
              "      <td>France</td>\n",
              "      <td>2020-11-09 18:32:45.627335</td>\n",
              "    </tr>\n",
              "    <tr>\n",
              "      <th>776884</th>\n",
              "      <td>2020-11-08 23:59:52</td>\n",
              "      <td>1.325589e+18</td>\n",
              "      <td>🌎\\n\\n“congiuntifuoriregione”\\n\\n‘Sono felice p...</td>\n",
              "      <td>1.0</td>\n",
              "      <td>1.0</td>\n",
              "      <td>Twitter for iPhone</td>\n",
              "      <td>5.293315e+08</td>\n",
              "      <td>Angelo Tani</td>\n",
              "      <td>AngeloTani</td>\n",
              "      <td>nato a casa dei nonni</td>\n",
              "      <td>2012-03-19 12:07:06</td>\n",
              "      <td>5974.0</td>\n",
              "      <td>🌎</td>\n",
              "      <td>2020-11-09 18:32:45.599846</td>\n",
              "    </tr>\n",
              "    <tr>\n",
              "      <th>776885</th>\n",
              "      <td>2020-11-08 23:59:58</td>\n",
              "      <td>1.325589e+18</td>\n",
              "      <td>Ik moet zeggen dat ik Biden \"the lesser of two...</td>\n",
              "      <td>0.0</td>\n",
              "      <td>0.0</td>\n",
              "      <td>Twitter for Android</td>\n",
              "      <td>5.863863e+08</td>\n",
              "      <td>Job</td>\n",
              "      <td>_JobO__</td>\n",
              "      <td>-voeg hier uw interessante bio toe-</td>\n",
              "      <td>2012-05-21 06:30:14</td>\n",
              "      <td>119.0</td>\n",
              "      <td>NaN</td>\n",
              "      <td>2020-11-09 18:32:45.747707</td>\n",
              "    </tr>\n",
              "  </tbody>\n",
              "</table>\n",
              "<p>776886 rows × 14 columns</p>\n",
              "</div>"
            ],
            "text/plain": [
              "                 created_at  ...                   collected_at\n",
              "0       2020-10-15 00:00:01  ...            2020-10-21 00:00:00\n",
              "1       2020-10-15 00:00:18  ...  2020-10-21 00:00:00.517827283\n",
              "2       2020-10-15 00:00:20  ...  2020-10-21 00:00:01.035654566\n",
              "3       2020-10-15 00:00:21  ...  2020-10-21 00:00:01.553481849\n",
              "4       2020-10-15 00:00:22  ...  2020-10-21 00:00:02.071309132\n",
              "...                     ...  ...                            ...\n",
              "776881  2020-11-08 23:59:38  ...     2020-11-09 18:32:45.613547\n",
              "776882  2020-11-08 23:59:38  ...     2020-11-09 18:32:45.947617\n",
              "776883  2020-11-08 23:59:41  ...     2020-11-09 18:32:45.627335\n",
              "776884  2020-11-08 23:59:52  ...     2020-11-09 18:32:45.599846\n",
              "776885  2020-11-08 23:59:58  ...     2020-11-09 18:32:45.747707\n",
              "\n",
              "[776886 rows x 14 columns]"
            ]
          },
          "metadata": {
            "tags": []
          },
          "execution_count": 21
        }
      ]
    },
    {
      "cell_type": "markdown",
      "metadata": {
        "id": "oqPfPaI9rjqx"
      },
      "source": [
        "We've now cleaned the tweets on both dataframes.We can now use them for the analysis purpose."
      ]
    },
    {
      "cell_type": "markdown",
      "metadata": {
        "id": "AM2lwibJ4O4V"
      },
      "source": [
        "###**Exploratory Analysis and Visualization**"
      ]
    },
    {
      "cell_type": "markdown",
      "metadata": {
        "id": "kiO5VJ6dr8jk"
      },
      "source": [
        "We need subjectivity and polarity from the tweets so it will be easier to categorise  the tweets on the basis of their sentiments (Positive,Negative or Neutral).\n",
        "\n",
        "We'll use textblob module for this."
      ]
    },
    {
      "cell_type": "code",
      "metadata": {
        "id": "YU1sWicz4O2V"
      },
      "source": [
        "from textblob import TextBlob\n",
        "def getSubjectivity(txt):\n",
        "  return TextBlob(txt).sentiment.subjectivity \n",
        "def getPolarity(txt):\n",
        "  return TextBlob(txt).sentiment.polarity\n",
        "DT_df['Subjectivity']=DT_df['tweet'].apply(getSubjectivity)\n",
        "JB_df['Subjectivity']=JB_df['tweet'].apply(getSubjectivity)\n",
        "DT_df['Polarity']=DT_df['tweet'].apply(getPolarity)\n",
        "JB_df['Polarity']=JB_df['tweet'].apply(getPolarity)"
      ],
      "execution_count": 22,
      "outputs": []
    },
    {
      "cell_type": "code",
      "metadata": {
        "id": "-tos5yJd4O0M"
      },
      "source": [
        "DT_df=DT_df.sort_values(by=['Polarity'],ascending=False)\n",
        "JB_df=JB_df.sort_values(by=['Polarity'],ascending=False)"
      ],
      "execution_count": 23,
      "outputs": []
    },
    {
      "cell_type": "code",
      "metadata": {
        "colab": {
          "base_uri": "https://localhost:8080/",
          "height": 821
        },
        "id": "0vmRfVbrNwef",
        "outputId": "7914ca78-60d2-46ca-9efc-2925418f24e0"
      },
      "source": [
        "JB_df.head(10)"
      ],
      "execution_count": 24,
      "outputs": [
        {
          "output_type": "execute_result",
          "data": {
            "text/html": [
              "<div>\n",
              "<style scoped>\n",
              "    .dataframe tbody tr th:only-of-type {\n",
              "        vertical-align: middle;\n",
              "    }\n",
              "\n",
              "    .dataframe tbody tr th {\n",
              "        vertical-align: top;\n",
              "    }\n",
              "\n",
              "    .dataframe thead th {\n",
              "        text-align: right;\n",
              "    }\n",
              "</style>\n",
              "<table border=\"1\" class=\"dataframe\">\n",
              "  <thead>\n",
              "    <tr style=\"text-align: right;\">\n",
              "      <th></th>\n",
              "      <th>created_at</th>\n",
              "      <th>tweet_id</th>\n",
              "      <th>tweet</th>\n",
              "      <th>likes</th>\n",
              "      <th>retweet_count</th>\n",
              "      <th>source</th>\n",
              "      <th>user_id</th>\n",
              "      <th>user_name</th>\n",
              "      <th>user_screen_name</th>\n",
              "      <th>user_description</th>\n",
              "      <th>user_join_date</th>\n",
              "      <th>user_followers_count</th>\n",
              "      <th>user_location</th>\n",
              "      <th>collected_at</th>\n",
              "      <th>Subjectivity</th>\n",
              "      <th>Polarity</th>\n",
              "    </tr>\n",
              "  </thead>\n",
              "  <tbody>\n",
              "    <tr>\n",
              "      <th>313135</th>\n",
              "      <td>2020-11-03 01:33:41</td>\n",
              "      <td>1.323438e+18</td>\n",
              "      <td>Yay! My Senator, 's husband is on  !!\\nAnd pre...</td>\n",
              "      <td>0.0</td>\n",
              "      <td>0.0</td>\n",
              "      <td>Twitter for Android</td>\n",
              "      <td>5.338141e+08</td>\n",
              "      <td>𝐃𝐫.👻𝐏𝐞𝐫𝐬𝐨𝐧💀𝐅𝐚𝐤𝐞𝐧𝐚𝐦𝐞👻</td>\n",
              "      <td>MDH2K</td>\n",
              "      <td>Liberal AF⚡Political Junkie🌼Mom 🔴Indiana Unive...</td>\n",
              "      <td>2012-03-23 01:28:06</td>\n",
              "      <td>2826.0</td>\n",
              "      <td>Ohio, USA</td>\n",
              "      <td>2020-11-04 09:48:02.559728</td>\n",
              "      <td>0.4</td>\n",
              "      <td>1.0</td>\n",
              "    </tr>\n",
              "    <tr>\n",
              "      <th>144941</th>\n",
              "      <td>2020-10-23 14:57:52</td>\n",
              "      <td>1.319654e+18</td>\n",
              "      <td>We are all proud of  today!  Thank you  ! Dump...</td>\n",
              "      <td>0.0</td>\n",
              "      <td>0.0</td>\n",
              "      <td>Twitter for iPhone</td>\n",
              "      <td>1.631450e+07</td>\n",
              "      <td>Lisa Pandone-Benson ✡️</td>\n",
              "      <td>LisaPandone</td>\n",
              "      <td>Foreign Affairs Commentator, CEO The Queen Est...</td>\n",
              "      <td>2008-09-16 18:21:31</td>\n",
              "      <td>1902.0</td>\n",
              "      <td>NaN</td>\n",
              "      <td>2020-10-27 18:08:21.258513</td>\n",
              "      <td>1.0</td>\n",
              "      <td>1.0</td>\n",
              "    </tr>\n",
              "    <tr>\n",
              "      <th>259593</th>\n",
              "      <td>2020-10-31 14:13:16</td>\n",
              "      <td>1.322542e+18</td>\n",
              "      <td>TRUMP is racist, he calls us terrorists!!\\nI w...</td>\n",
              "      <td>0.0</td>\n",
              "      <td>0.0</td>\n",
              "      <td>Twitter Web App</td>\n",
              "      <td>5.969173e+08</td>\n",
              "      <td>Omar Al-johmani</td>\n",
              "      <td>Omarjohmani</td>\n",
              "      <td>Syrian young man 23 years old, I am an archite...</td>\n",
              "      <td>2012-06-02 00:05:45</td>\n",
              "      <td>14.0</td>\n",
              "      <td>Jordan</td>\n",
              "      <td>2020-11-01 11:09:11.696327</td>\n",
              "      <td>0.3</td>\n",
              "      <td>1.0</td>\n",
              "    </tr>\n",
              "    <tr>\n",
              "      <th>20860</th>\n",
              "      <td>2020-10-16 03:44:51</td>\n",
              "      <td>1.316948e+18</td>\n",
              "      <td>This is a blockbuster!! Brave person!\\nVoteBid...</td>\n",
              "      <td>0.0</td>\n",
              "      <td>0.0</td>\n",
              "      <td>Twitter Web App</td>\n",
              "      <td>1.311082e+18</td>\n",
              "      <td>Ted2316</td>\n",
              "      <td>Ted23161</td>\n",
              "      <td>American Democracy will Survive \\nMasks Save L...</td>\n",
              "      <td>2020-09-29 23:19:49</td>\n",
              "      <td>37.0</td>\n",
              "      <td>NaN</td>\n",
              "      <td>2020-10-21 03:03:44.025028318</td>\n",
              "      <td>1.0</td>\n",
              "      <td>1.0</td>\n",
              "    </tr>\n",
              "    <tr>\n",
              "      <th>574230</th>\n",
              "      <td>2020-11-07 16:28:27</td>\n",
              "      <td>1.325113e+18</td>\n",
              "      <td>It's official!! 🎉 Biden is the president elect...</td>\n",
              "      <td>0.0</td>\n",
              "      <td>0.0</td>\n",
              "      <td>Twitter for Android</td>\n",
              "      <td>1.120846e+18</td>\n",
              "      <td>Dumb Trump</td>\n",
              "      <td>DumbTrump11</td>\n",
              "      <td>Real news, Fake President! #Resist</td>\n",
              "      <td>2019-04-24 00:26:18</td>\n",
              "      <td>142.0</td>\n",
              "      <td>NaN</td>\n",
              "      <td>2020-11-08 11:35:50.541105</td>\n",
              "      <td>0.9</td>\n",
              "      <td>1.0</td>\n",
              "    </tr>\n",
              "    <tr>\n",
              "      <th>362305</th>\n",
              "      <td>2020-11-04 02:23:18</td>\n",
              "      <td>1.323813e+18</td>\n",
              "      <td>Welcome Colorado! JoeBiden Projected Winner fo...</td>\n",
              "      <td>0.0</td>\n",
              "      <td>0.0</td>\n",
              "      <td>Twitter Web App</td>\n",
              "      <td>9.921171e+17</td>\n",
              "      <td>TRUE AMERICA</td>\n",
              "      <td>1TRUE_AMERICA</td>\n",
              "      <td>🇺🇸TRUE America🇺🇸 prevails for we were not foun...</td>\n",
              "      <td>2018-05-03 19:02:13</td>\n",
              "      <td>65.0</td>\n",
              "      <td>Monterey Co., California, USA</td>\n",
              "      <td>2020-11-05 13:09:15.177681</td>\n",
              "      <td>0.9</td>\n",
              "      <td>1.0</td>\n",
              "    </tr>\n",
              "    <tr>\n",
              "      <th>462366</th>\n",
              "      <td>2020-11-05 04:04:14</td>\n",
              "      <td>1.324201e+18</td>\n",
              "      <td>Just need navada to win for JoeBiden .\\nWish h...</td>\n",
              "      <td>2.0</td>\n",
              "      <td>1.0</td>\n",
              "      <td>Twitter Web App</td>\n",
              "      <td>2.475630e+09</td>\n",
              "      <td>Adnan Shah</td>\n",
              "      <td>AdnanafzalShah</td>\n",
              "      <td>ISLAM ZINDABAD!!!\\nComputer science engineer ,...</td>\n",
              "      <td>2014-05-03 15:23:57</td>\n",
              "      <td>23.0</td>\n",
              "      <td>SRINAGAR</td>\n",
              "      <td>2020-11-06 10:20:03.963047</td>\n",
              "      <td>0.4</td>\n",
              "      <td>1.0</td>\n",
              "    </tr>\n",
              "    <tr>\n",
              "      <th>670537</th>\n",
              "      <td>2020-11-07 19:52:28</td>\n",
              "      <td>1.325164e+18</td>\n",
              "      <td>انتخابات_آمریکا \\nانتخابات_۲۰۲۰ \\nElections202...</td>\n",
              "      <td>1.0</td>\n",
              "      <td>0.0</td>\n",
              "      <td>Twitter Web App</td>\n",
              "      <td>7.991327e+17</td>\n",
              "      <td>مٌفردِ مُذکَّرِ سالِم</td>\n",
              "      <td>harfeyar</td>\n",
              "      <td>‏‏‏‏‏‏‏‏‏‏‏‏‏‏‏‏‏‏‏‏‏‏‏‏‏‏‏خنُک آن قماربازی که...</td>\n",
              "      <td>2016-11-17 06:11:09</td>\n",
              "      <td>85.0</td>\n",
              "      <td>Islamic Republic of Iran</td>\n",
              "      <td>2020-11-08 11:12:07.026322</td>\n",
              "      <td>1.0</td>\n",
              "      <td>1.0</td>\n",
              "    </tr>\n",
              "    <tr>\n",
              "      <th>574223</th>\n",
              "      <td>2020-11-07 16:28:26</td>\n",
              "      <td>1.325113e+18</td>\n",
              "      <td>Biden PRESIDENT ELECT BIDEN!!!! https://t.co/r...</td>\n",
              "      <td>0.0</td>\n",
              "      <td>0.0</td>\n",
              "      <td>Twitter for iPhone</td>\n",
              "      <td>2.329104e+08</td>\n",
              "      <td>Justice0509 🌊🌺🌊</td>\n",
              "      <td>justice0509</td>\n",
              "      <td>Independent mind, Say no to #alternativefacts ...</td>\n",
              "      <td>2011-01-01 18:25:50</td>\n",
              "      <td>5670.0</td>\n",
              "      <td>United States</td>\n",
              "      <td>2020-11-08 11:35:51.660066</td>\n",
              "      <td>0.9</td>\n",
              "      <td>1.0</td>\n",
              "    </tr>\n",
              "    <tr>\n",
              "      <th>124803</th>\n",
              "      <td>2020-10-23 02:31:26</td>\n",
              "      <td>1.319466e+18</td>\n",
              "      <td>Joe Biden laughing at Trump is the best thing ...</td>\n",
              "      <td>1.0</td>\n",
              "      <td>0.0</td>\n",
              "      <td>Twitter for Android</td>\n",
              "      <td>4.226276e+08</td>\n",
              "      <td>Μιχαήλ</td>\n",
              "      <td>sniktm</td>\n",
              "      <td>🌈🇬🇷 🇦🇺Ahhiyawan living on unceded land.</td>\n",
              "      <td>2011-11-27 13:53:28</td>\n",
              "      <td>347.0</td>\n",
              "      <td>Naarm, Wurundjeri Land</td>\n",
              "      <td>2020-10-27 18:25:52.235225</td>\n",
              "      <td>0.3</td>\n",
              "      <td>1.0</td>\n",
              "    </tr>\n",
              "  </tbody>\n",
              "</table>\n",
              "</div>"
            ],
            "text/plain": [
              "                 created_at      tweet_id  ... Subjectivity  Polarity\n",
              "313135  2020-11-03 01:33:41  1.323438e+18  ...          0.4       1.0\n",
              "144941  2020-10-23 14:57:52  1.319654e+18  ...          1.0       1.0\n",
              "259593  2020-10-31 14:13:16  1.322542e+18  ...          0.3       1.0\n",
              "20860   2020-10-16 03:44:51  1.316948e+18  ...          1.0       1.0\n",
              "574230  2020-11-07 16:28:27  1.325113e+18  ...          0.9       1.0\n",
              "362305  2020-11-04 02:23:18  1.323813e+18  ...          0.9       1.0\n",
              "462366  2020-11-05 04:04:14  1.324201e+18  ...          0.4       1.0\n",
              "670537  2020-11-07 19:52:28  1.325164e+18  ...          1.0       1.0\n",
              "574223  2020-11-07 16:28:26  1.325113e+18  ...          0.9       1.0\n",
              "124803  2020-10-23 02:31:26  1.319466e+18  ...          0.3       1.0\n",
              "\n",
              "[10 rows x 16 columns]"
            ]
          },
          "metadata": {
            "tags": []
          },
          "execution_count": 24
        }
      ]
    },
    {
      "cell_type": "markdown",
      "metadata": {
        "id": "Sre_ZJWdfc6F"
      },
      "source": [
        "Now that we have the subjectivity and polarity we'll move on to the tweet analysis , labeling them positive,negative or neutral."
      ]
    },
    {
      "cell_type": "code",
      "metadata": {
        "colab": {
          "base_uri": "https://localhost:8080/",
          "height": 830
        },
        "id": "Spx01YMh4Oyd",
        "outputId": "b1655611-b512-46b1-8918-05368334bcb4"
      },
      "source": [
        "def getAnalysis(score):\n",
        "  if score<0:\n",
        "    return 'Negative'\n",
        "  elif score==0:\n",
        "    return 'Neutral'     \n",
        "  else:\n",
        "    return 'Positive'  \n",
        "DT_df['Analysis']=DT_df['Polarity'].apply(getAnalysis)\n",
        "JB_df['Analysis']=JB_df['Polarity'].apply(getAnalysis)\n",
        "DT_df"
      ],
      "execution_count": 25,
      "outputs": [
        {
          "output_type": "execute_result",
          "data": {
            "text/html": [
              "<div>\n",
              "<style scoped>\n",
              "    .dataframe tbody tr th:only-of-type {\n",
              "        vertical-align: middle;\n",
              "    }\n",
              "\n",
              "    .dataframe tbody tr th {\n",
              "        vertical-align: top;\n",
              "    }\n",
              "\n",
              "    .dataframe thead th {\n",
              "        text-align: right;\n",
              "    }\n",
              "</style>\n",
              "<table border=\"1\" class=\"dataframe\">\n",
              "  <thead>\n",
              "    <tr style=\"text-align: right;\">\n",
              "      <th></th>\n",
              "      <th>created_at</th>\n",
              "      <th>tweet_id</th>\n",
              "      <th>tweet</th>\n",
              "      <th>likes</th>\n",
              "      <th>retweet_count</th>\n",
              "      <th>source</th>\n",
              "      <th>user_id</th>\n",
              "      <th>user_name</th>\n",
              "      <th>user_screen_name</th>\n",
              "      <th>user_description</th>\n",
              "      <th>user_join_date</th>\n",
              "      <th>user_followers_count</th>\n",
              "      <th>user_location</th>\n",
              "      <th>collected_at</th>\n",
              "      <th>Subjectivity</th>\n",
              "      <th>Polarity</th>\n",
              "      <th>Analysis</th>\n",
              "    </tr>\n",
              "  </thead>\n",
              "  <tbody>\n",
              "    <tr>\n",
              "      <th>695306</th>\n",
              "      <td>2020-11-05 16:18:47</td>\n",
              "      <td>1.324386e+18</td>\n",
              "      <td>economy is best under a Trump presidency https...</td>\n",
              "      <td>0.0</td>\n",
              "      <td>0.0</td>\n",
              "      <td>Twitter Web App</td>\n",
              "      <td>1.880896e+09</td>\n",
              "      <td>Susan Wilcox</td>\n",
              "      <td>SuseWilcox</td>\n",
              "      <td>University of Michigan MBA 1991, Finance Profe...</td>\n",
              "      <td>2013-09-18 21:01:26</td>\n",
              "      <td>2735.0</td>\n",
              "      <td>Michigan</td>\n",
              "      <td>2020-11-06 09:55:42.607482</td>\n",
              "      <td>0.30</td>\n",
              "      <td>1.0</td>\n",
              "      <td>Positive</td>\n",
              "    </tr>\n",
              "    <tr>\n",
              "      <th>455572</th>\n",
              "      <td>2020-11-02 22:57:44</td>\n",
              "      <td>1.323399e+18</td>\n",
              "      <td>_warmington ....and there you have it _warming...</td>\n",
              "      <td>2.0</td>\n",
              "      <td>0.0</td>\n",
              "      <td>Twitter Web App</td>\n",
              "      <td>7.882088e+07</td>\n",
              "      <td>Munson</td>\n",
              "      <td>munsen55</td>\n",
              "      <td>NaN</td>\n",
              "      <td>2009-10-01 06:03:36</td>\n",
              "      <td>83.0</td>\n",
              "      <td>Ajax, On.</td>\n",
              "      <td>2020-11-03 14:24:26.970635</td>\n",
              "      <td>0.60</td>\n",
              "      <td>1.0</td>\n",
              "      <td>Positive</td>\n",
              "    </tr>\n",
              "    <tr>\n",
              "      <th>868925</th>\n",
              "      <td>2020-11-07 18:00:44</td>\n",
              "      <td>1.325136e+18</td>\n",
              "      <td>Great!! This is it for the Republicans Exit Tr...</td>\n",
              "      <td>0.0</td>\n",
              "      <td>0.0</td>\n",
              "      <td>Twitter for Android</td>\n",
              "      <td>3.605871e+08</td>\n",
              "      <td>Stef Poirot</td>\n",
              "      <td>StefPoirot</td>\n",
              "      <td>\"Respectez les autres et ils vous respecteront...</td>\n",
              "      <td>2011-08-23 13:03:03</td>\n",
              "      <td>463.0</td>\n",
              "      <td>France</td>\n",
              "      <td>2020-11-08 10:51:00.068268</td>\n",
              "      <td>0.75</td>\n",
              "      <td>1.0</td>\n",
              "      <td>Positive</td>\n",
              "    </tr>\n",
              "    <tr>\n",
              "      <th>421417</th>\n",
              "      <td>2020-11-02 05:29:31</td>\n",
              "      <td>1.323135e+18</td>\n",
              "      <td>Trump video is awesome! shows BidenCrimeSyndic...</td>\n",
              "      <td>0.0</td>\n",
              "      <td>0.0</td>\n",
              "      <td>Twitter Web App</td>\n",
              "      <td>1.249902e+18</td>\n",
              "      <td>Robert Johnson</td>\n",
              "      <td>RobertJ92623620</td>\n",
              "      <td>#AmericaFirst #trump2020 #NYRangers #giants #n...</td>\n",
              "      <td>2020-04-14 03:26:57</td>\n",
              "      <td>1058.0</td>\n",
              "      <td>NaN</td>\n",
              "      <td>2020-11-04 10:27:10.493402</td>\n",
              "      <td>1.00</td>\n",
              "      <td>1.0</td>\n",
              "      <td>Positive</td>\n",
              "    </tr>\n",
              "    <tr>\n",
              "      <th>433451</th>\n",
              "      <td>2020-11-02 14:22:17</td>\n",
              "      <td>1.323269e+18</td>\n",
              "      <td>Trump to win! Election2020 Trump https://t.co/...</td>\n",
              "      <td>0.0</td>\n",
              "      <td>0.0</td>\n",
              "      <td>Twitter for Android</td>\n",
              "      <td>1.025865e+18</td>\n",
              "      <td>OdysseusSpur 🇬🇧 #THFC #KBF</td>\n",
              "      <td>ScottPN75</td>\n",
              "      <td>Spurs fan for nearly 30 years, graduate of the...</td>\n",
              "      <td>2018-08-04 22:03:32</td>\n",
              "      <td>825.0</td>\n",
              "      <td>England, United Kingdom</td>\n",
              "      <td>2020-11-03 14:28:28.813110</td>\n",
              "      <td>0.40</td>\n",
              "      <td>1.0</td>\n",
              "      <td>Positive</td>\n",
              "    </tr>\n",
              "    <tr>\n",
              "      <th>...</th>\n",
              "      <td>...</td>\n",
              "      <td>...</td>\n",
              "      <td>...</td>\n",
              "      <td>...</td>\n",
              "      <td>...</td>\n",
              "      <td>...</td>\n",
              "      <td>...</td>\n",
              "      <td>...</td>\n",
              "      <td>...</td>\n",
              "      <td>...</td>\n",
              "      <td>...</td>\n",
              "      <td>...</td>\n",
              "      <td>...</td>\n",
              "      <td>...</td>\n",
              "      <td>...</td>\n",
              "      <td>...</td>\n",
              "      <td>...</td>\n",
              "    </tr>\n",
              "    <tr>\n",
              "      <th>656785</th>\n",
              "      <td>2020-11-05 00:56:49</td>\n",
              "      <td>1.324154e+18</td>\n",
              "      <td>Their desperation is disgusting at this point...</td>\n",
              "      <td>7.0</td>\n",
              "      <td>0.0</td>\n",
              "      <td>Twitter for iPhone</td>\n",
              "      <td>1.242248e+18</td>\n",
              "      <td>Tony</td>\n",
              "      <td>TravelsWithTony</td>\n",
              "      <td>I like traveling to all the places ✈️ Spend my...</td>\n",
              "      <td>2020-03-24 00:31:37</td>\n",
              "      <td>246.0</td>\n",
              "      <td>NaN</td>\n",
              "      <td>2020-11-06 10:01:54.814187</td>\n",
              "      <td>1.00</td>\n",
              "      <td>-1.0</td>\n",
              "      <td>Negative</td>\n",
              "    </tr>\n",
              "    <tr>\n",
              "      <th>362731</th>\n",
              "      <td>2020-10-31 03:13:48</td>\n",
              "      <td>1.322376e+18</td>\n",
              "      <td>Trump is making my headEXPLODE!!!  He keeps sa...</td>\n",
              "      <td>0.0</td>\n",
              "      <td>0.0</td>\n",
              "      <td>Twitter Web App</td>\n",
              "      <td>1.185337e+18</td>\n",
              "      <td>Mind_Jedi</td>\n",
              "      <td>Mind_Jedi_Dr</td>\n",
              "      <td>RT a lot. Very Political. My 1st twitter acct ...</td>\n",
              "      <td>2019-10-18 23:33:33</td>\n",
              "      <td>478.0</td>\n",
              "      <td>NaN</td>\n",
              "      <td>2020-11-01 10:55:13.867879</td>\n",
              "      <td>1.00</td>\n",
              "      <td>-1.0</td>\n",
              "      <td>Negative</td>\n",
              "    </tr>\n",
              "    <tr>\n",
              "      <th>725968</th>\n",
              "      <td>2020-11-06 00:03:40</td>\n",
              "      <td>1.324503e+18</td>\n",
              "      <td>Go ahead with your litigation! You are lying ...</td>\n",
              "      <td>1.0</td>\n",
              "      <td>0.0</td>\n",
              "      <td>Twitter for iPad</td>\n",
              "      <td>9.486357e+08</td>\n",
              "      <td>brenda</td>\n",
              "      <td>brp55</td>\n",
              "      <td>NaN</td>\n",
              "      <td>2012-11-14 22:41:58</td>\n",
              "      <td>10.0</td>\n",
              "      <td>NaN</td>\n",
              "      <td>2020-11-07 11:37:26.156204</td>\n",
              "      <td>1.00</td>\n",
              "      <td>-1.0</td>\n",
              "      <td>Negative</td>\n",
              "    </tr>\n",
              "    <tr>\n",
              "      <th>101523</th>\n",
              "      <td>2020-10-20 04:41:18</td>\n",
              "      <td>1.318412e+18</td>\n",
              "      <td>MarchToThePollsForJoe 😎😎😎😎😎😎😎😎😎\\nRestore decen...</td>\n",
              "      <td>2.0</td>\n",
              "      <td>0.0</td>\n",
              "      <td>Twitter Web App</td>\n",
              "      <td>3.863951e+08</td>\n",
              "      <td>t Logan</td>\n",
              "      <td>greeneyes3470</td>\n",
              "      <td>I Really am a nice person,  but Trump makes my...</td>\n",
              "      <td>2011-10-07 06:35:04</td>\n",
              "      <td>263.0</td>\n",
              "      <td>NaN</td>\n",
              "      <td>2020-10-21 10:42:48.942682752</td>\n",
              "      <td>1.00</td>\n",
              "      <td>-1.0</td>\n",
              "      <td>Negative</td>\n",
              "    </tr>\n",
              "    <tr>\n",
              "      <th>762510</th>\n",
              "      <td>2020-11-06 10:28:29</td>\n",
              "      <td>1.324660e+18</td>\n",
              "      <td>Trump|s Manöver mögen hilflos oder lächerlich ...</td>\n",
              "      <td>1.0</td>\n",
              "      <td>1.0</td>\n",
              "      <td>Twitter for iPhone</td>\n",
              "      <td>8.705138e+08</td>\n",
              "      <td>Volker Zepperitz</td>\n",
              "      <td>thatmantalking</td>\n",
              "      <td>Immer Journalist und jetzt auch Redakteur bei ...</td>\n",
              "      <td>2012-10-09 19:58:35</td>\n",
              "      <td>197.0</td>\n",
              "      <td>Berlin, Deutschland</td>\n",
              "      <td>2020-11-07 11:31:06.502407</td>\n",
              "      <td>1.00</td>\n",
              "      <td>-1.0</td>\n",
              "      <td>Negative</td>\n",
              "    </tr>\n",
              "  </tbody>\n",
              "</table>\n",
              "<p>970919 rows × 17 columns</p>\n",
              "</div>"
            ],
            "text/plain": [
              "                 created_at      tweet_id  ... Polarity  Analysis\n",
              "695306  2020-11-05 16:18:47  1.324386e+18  ...      1.0  Positive\n",
              "455572  2020-11-02 22:57:44  1.323399e+18  ...      1.0  Positive\n",
              "868925  2020-11-07 18:00:44  1.325136e+18  ...      1.0  Positive\n",
              "421417  2020-11-02 05:29:31  1.323135e+18  ...      1.0  Positive\n",
              "433451  2020-11-02 14:22:17  1.323269e+18  ...      1.0  Positive\n",
              "...                     ...           ...  ...      ...       ...\n",
              "656785  2020-11-05 00:56:49  1.324154e+18  ...     -1.0  Negative\n",
              "362731  2020-10-31 03:13:48  1.322376e+18  ...     -1.0  Negative\n",
              "725968  2020-11-06 00:03:40  1.324503e+18  ...     -1.0  Negative\n",
              "101523  2020-10-20 04:41:18  1.318412e+18  ...     -1.0  Negative\n",
              "762510  2020-11-06 10:28:29  1.324660e+18  ...     -1.0  Negative\n",
              "\n",
              "[970919 rows x 17 columns]"
            ]
          },
          "metadata": {
            "tags": []
          },
          "execution_count": 25
        }
      ]
    },
    {
      "cell_type": "code",
      "metadata": {
        "colab": {
          "base_uri": "https://localhost:8080/",
          "height": 898
        },
        "id": "cjPVf5HJOb-y",
        "outputId": "029da4a0-20c3-474d-ede0-f493cf8a90f5"
      },
      "source": [
        "JB_df"
      ],
      "execution_count": 26,
      "outputs": [
        {
          "output_type": "execute_result",
          "data": {
            "text/html": [
              "<div>\n",
              "<style scoped>\n",
              "    .dataframe tbody tr th:only-of-type {\n",
              "        vertical-align: middle;\n",
              "    }\n",
              "\n",
              "    .dataframe tbody tr th {\n",
              "        vertical-align: top;\n",
              "    }\n",
              "\n",
              "    .dataframe thead th {\n",
              "        text-align: right;\n",
              "    }\n",
              "</style>\n",
              "<table border=\"1\" class=\"dataframe\">\n",
              "  <thead>\n",
              "    <tr style=\"text-align: right;\">\n",
              "      <th></th>\n",
              "      <th>created_at</th>\n",
              "      <th>tweet_id</th>\n",
              "      <th>tweet</th>\n",
              "      <th>likes</th>\n",
              "      <th>retweet_count</th>\n",
              "      <th>source</th>\n",
              "      <th>user_id</th>\n",
              "      <th>user_name</th>\n",
              "      <th>user_screen_name</th>\n",
              "      <th>user_description</th>\n",
              "      <th>user_join_date</th>\n",
              "      <th>user_followers_count</th>\n",
              "      <th>user_location</th>\n",
              "      <th>collected_at</th>\n",
              "      <th>Subjectivity</th>\n",
              "      <th>Polarity</th>\n",
              "      <th>Analysis</th>\n",
              "    </tr>\n",
              "  </thead>\n",
              "  <tbody>\n",
              "    <tr>\n",
              "      <th>313135</th>\n",
              "      <td>2020-11-03 01:33:41</td>\n",
              "      <td>1.323438e+18</td>\n",
              "      <td>Yay! My Senator, 's husband is on  !!\\nAnd pre...</td>\n",
              "      <td>0.0</td>\n",
              "      <td>0.0</td>\n",
              "      <td>Twitter for Android</td>\n",
              "      <td>5.338141e+08</td>\n",
              "      <td>𝐃𝐫.👻𝐏𝐞𝐫𝐬𝐨𝐧💀𝐅𝐚𝐤𝐞𝐧𝐚𝐦𝐞👻</td>\n",
              "      <td>MDH2K</td>\n",
              "      <td>Liberal AF⚡Political Junkie🌼Mom 🔴Indiana Unive...</td>\n",
              "      <td>2012-03-23 01:28:06</td>\n",
              "      <td>2826.0</td>\n",
              "      <td>Ohio, USA</td>\n",
              "      <td>2020-11-04 09:48:02.559728</td>\n",
              "      <td>0.4</td>\n",
              "      <td>1.0</td>\n",
              "      <td>Positive</td>\n",
              "    </tr>\n",
              "    <tr>\n",
              "      <th>144941</th>\n",
              "      <td>2020-10-23 14:57:52</td>\n",
              "      <td>1.319654e+18</td>\n",
              "      <td>We are all proud of  today!  Thank you  ! Dump...</td>\n",
              "      <td>0.0</td>\n",
              "      <td>0.0</td>\n",
              "      <td>Twitter for iPhone</td>\n",
              "      <td>1.631450e+07</td>\n",
              "      <td>Lisa Pandone-Benson ✡️</td>\n",
              "      <td>LisaPandone</td>\n",
              "      <td>Foreign Affairs Commentator, CEO The Queen Est...</td>\n",
              "      <td>2008-09-16 18:21:31</td>\n",
              "      <td>1902.0</td>\n",
              "      <td>NaN</td>\n",
              "      <td>2020-10-27 18:08:21.258513</td>\n",
              "      <td>1.0</td>\n",
              "      <td>1.0</td>\n",
              "      <td>Positive</td>\n",
              "    </tr>\n",
              "    <tr>\n",
              "      <th>259593</th>\n",
              "      <td>2020-10-31 14:13:16</td>\n",
              "      <td>1.322542e+18</td>\n",
              "      <td>TRUMP is racist, he calls us terrorists!!\\nI w...</td>\n",
              "      <td>0.0</td>\n",
              "      <td>0.0</td>\n",
              "      <td>Twitter Web App</td>\n",
              "      <td>5.969173e+08</td>\n",
              "      <td>Omar Al-johmani</td>\n",
              "      <td>Omarjohmani</td>\n",
              "      <td>Syrian young man 23 years old, I am an archite...</td>\n",
              "      <td>2012-06-02 00:05:45</td>\n",
              "      <td>14.0</td>\n",
              "      <td>Jordan</td>\n",
              "      <td>2020-11-01 11:09:11.696327</td>\n",
              "      <td>0.3</td>\n",
              "      <td>1.0</td>\n",
              "      <td>Positive</td>\n",
              "    </tr>\n",
              "    <tr>\n",
              "      <th>20860</th>\n",
              "      <td>2020-10-16 03:44:51</td>\n",
              "      <td>1.316948e+18</td>\n",
              "      <td>This is a blockbuster!! Brave person!\\nVoteBid...</td>\n",
              "      <td>0.0</td>\n",
              "      <td>0.0</td>\n",
              "      <td>Twitter Web App</td>\n",
              "      <td>1.311082e+18</td>\n",
              "      <td>Ted2316</td>\n",
              "      <td>Ted23161</td>\n",
              "      <td>American Democracy will Survive \\nMasks Save L...</td>\n",
              "      <td>2020-09-29 23:19:49</td>\n",
              "      <td>37.0</td>\n",
              "      <td>NaN</td>\n",
              "      <td>2020-10-21 03:03:44.025028318</td>\n",
              "      <td>1.0</td>\n",
              "      <td>1.0</td>\n",
              "      <td>Positive</td>\n",
              "    </tr>\n",
              "    <tr>\n",
              "      <th>574230</th>\n",
              "      <td>2020-11-07 16:28:27</td>\n",
              "      <td>1.325113e+18</td>\n",
              "      <td>It's official!! 🎉 Biden is the president elect...</td>\n",
              "      <td>0.0</td>\n",
              "      <td>0.0</td>\n",
              "      <td>Twitter for Android</td>\n",
              "      <td>1.120846e+18</td>\n",
              "      <td>Dumb Trump</td>\n",
              "      <td>DumbTrump11</td>\n",
              "      <td>Real news, Fake President! #Resist</td>\n",
              "      <td>2019-04-24 00:26:18</td>\n",
              "      <td>142.0</td>\n",
              "      <td>NaN</td>\n",
              "      <td>2020-11-08 11:35:50.541105</td>\n",
              "      <td>0.9</td>\n",
              "      <td>1.0</td>\n",
              "      <td>Positive</td>\n",
              "    </tr>\n",
              "    <tr>\n",
              "      <th>...</th>\n",
              "      <td>...</td>\n",
              "      <td>...</td>\n",
              "      <td>...</td>\n",
              "      <td>...</td>\n",
              "      <td>...</td>\n",
              "      <td>...</td>\n",
              "      <td>...</td>\n",
              "      <td>...</td>\n",
              "      <td>...</td>\n",
              "      <td>...</td>\n",
              "      <td>...</td>\n",
              "      <td>...</td>\n",
              "      <td>...</td>\n",
              "      <td>...</td>\n",
              "      <td>...</td>\n",
              "      <td>...</td>\n",
              "      <td>...</td>\n",
              "    </tr>\n",
              "    <tr>\n",
              "      <th>361019</th>\n",
              "      <td>2020-11-04 02:07:02</td>\n",
              "      <td>1.323809e+18</td>\n",
              "      <td>TEXAS going insane - 38 electoral votes\\n\\nDon...</td>\n",
              "      <td>4.0</td>\n",
              "      <td>0.0</td>\n",
              "      <td>Twitter for iPhone</td>\n",
              "      <td>1.108409e+09</td>\n",
              "      <td>Abheet | अभीत</td>\n",
              "      <td>journo_abheet</td>\n",
              "      <td>Journalist | Scholar @UniStrathclyde MLitt Dig...</td>\n",
              "      <td>2013-01-21 08:05:06</td>\n",
              "      <td>232.0</td>\n",
              "      <td>Glasgow, UK</td>\n",
              "      <td>2020-11-05 13:09:18.975511</td>\n",
              "      <td>1.0</td>\n",
              "      <td>-1.0</td>\n",
              "      <td>Negative</td>\n",
              "    </tr>\n",
              "    <tr>\n",
              "      <th>744937</th>\n",
              "      <td>2020-11-08 02:07:27</td>\n",
              "      <td>1.325259e+18</td>\n",
              "      <td>“Let the grim era of demonization begin to end...</td>\n",
              "      <td>2.0</td>\n",
              "      <td>1.0</td>\n",
              "      <td>Twitter for iPhone</td>\n",
              "      <td>2.869480e+09</td>\n",
              "      <td>Azita Emami</td>\n",
              "      <td>azitaema</td>\n",
              "      <td>PhD, MSN, BSNT, RN, FAAN and Executive Dean, U...</td>\n",
              "      <td>2014-10-21 20:46:13</td>\n",
              "      <td>346.0</td>\n",
              "      <td>Seattle</td>\n",
              "      <td>2020-11-09 18:38:43.440107</td>\n",
              "      <td>1.0</td>\n",
              "      <td>-1.0</td>\n",
              "      <td>Negative</td>\n",
              "    </tr>\n",
              "    <tr>\n",
              "      <th>170254</th>\n",
              "      <td>2020-10-25 10:23:30</td>\n",
              "      <td>1.320310e+18</td>\n",
              "      <td>Trump and his family think they have mastered...</td>\n",
              "      <td>1.0</td>\n",
              "      <td>0.0</td>\n",
              "      <td>Twitter for Android</td>\n",
              "      <td>1.284547e+18</td>\n",
              "      <td>JUST Precious</td>\n",
              "      <td>PPreciousone</td>\n",
              "      <td>YOUR VOTE IS YOUR VOICE &amp; POWER!! VOTE!!</td>\n",
              "      <td>2020-07-18 17:54:46</td>\n",
              "      <td>12.0</td>\n",
              "      <td>NaN</td>\n",
              "      <td>2020-10-27 18:05:54.969222</td>\n",
              "      <td>1.0</td>\n",
              "      <td>-1.0</td>\n",
              "      <td>Negative</td>\n",
              "    </tr>\n",
              "    <tr>\n",
              "      <th>579939</th>\n",
              "      <td>2020-11-07 16:34:35</td>\n",
              "      <td>1.325114e+18</td>\n",
              "      <td>Democrats got them nasty Republicans outta her...</td>\n",
              "      <td>23.0</td>\n",
              "      <td>13.0</td>\n",
              "      <td>Twitter for iPhone</td>\n",
              "      <td>4.246089e+07</td>\n",
              "      <td>The Meaning Of Prentiss</td>\n",
              "      <td>RoyalPrince01</td>\n",
              "      <td>“I am not Cinderella. My life has not been a f...</td>\n",
              "      <td>2009-05-25 18:43:17</td>\n",
              "      <td>6288.0</td>\n",
              "      <td>Chicago,IL</td>\n",
              "      <td>2020-11-08 11:21:03.621943</td>\n",
              "      <td>1.0</td>\n",
              "      <td>-1.0</td>\n",
              "      <td>Negative</td>\n",
              "    </tr>\n",
              "    <tr>\n",
              "      <th>394345</th>\n",
              "      <td>2020-11-04 09:43:32</td>\n",
              "      <td>1.323924e+18</td>\n",
              "      <td>No way it should be this close....\\nAmerica is...</td>\n",
              "      <td>0.0</td>\n",
              "      <td>0.0</td>\n",
              "      <td>Twitter for iPhone</td>\n",
              "      <td>1.281069e+18</td>\n",
              "      <td>PILLOW GIRL</td>\n",
              "      <td>PILLOWGIRL6</td>\n",
              "      <td>Creative writer</td>\n",
              "      <td>2020-07-09 03:34:16</td>\n",
              "      <td>1.0</td>\n",
              "      <td>NaN</td>\n",
              "      <td>2020-11-05 12:57:34.904043</td>\n",
              "      <td>0.7</td>\n",
              "      <td>-1.0</td>\n",
              "      <td>Negative</td>\n",
              "    </tr>\n",
              "  </tbody>\n",
              "</table>\n",
              "<p>776886 rows × 17 columns</p>\n",
              "</div>"
            ],
            "text/plain": [
              "                 created_at      tweet_id  ... Polarity  Analysis\n",
              "313135  2020-11-03 01:33:41  1.323438e+18  ...      1.0  Positive\n",
              "144941  2020-10-23 14:57:52  1.319654e+18  ...      1.0  Positive\n",
              "259593  2020-10-31 14:13:16  1.322542e+18  ...      1.0  Positive\n",
              "20860   2020-10-16 03:44:51  1.316948e+18  ...      1.0  Positive\n",
              "574230  2020-11-07 16:28:27  1.325113e+18  ...      1.0  Positive\n",
              "...                     ...           ...  ...      ...       ...\n",
              "361019  2020-11-04 02:07:02  1.323809e+18  ...     -1.0  Negative\n",
              "744937  2020-11-08 02:07:27  1.325259e+18  ...     -1.0  Negative\n",
              "170254  2020-10-25 10:23:30  1.320310e+18  ...     -1.0  Negative\n",
              "579939  2020-11-07 16:34:35  1.325114e+18  ...     -1.0  Negative\n",
              "394345  2020-11-04 09:43:32  1.323924e+18  ...     -1.0  Negative\n",
              "\n",
              "[776886 rows x 17 columns]"
            ]
          },
          "metadata": {
            "tags": []
          },
          "execution_count": 26
        }
      ]
    },
    {
      "cell_type": "code",
      "metadata": {
        "id": "cnsn8ku7vp-t"
      },
      "source": [
        "import matplotlib.pyplot as plt\n",
        "import seaborn as sns\n",
        "%matplotlib inline"
      ],
      "execution_count": 27,
      "outputs": []
    },
    {
      "cell_type": "code",
      "metadata": {
        "id": "z0d3ax08Kubb",
        "colab": {
          "base_uri": "https://localhost:8080/",
          "height": 385
        },
        "outputId": "ad626487-b2a3-4950-ab86-37a24e6d7962"
      },
      "source": [
        "sns.set_style(\"whitegrid\")\n",
        "plt.figure(figsize=(8,5))\n",
        "DTT=DT_df['Analysis'].value_counts()\n",
        "plt.title('Donal Trump Tweets Sentiment Analysis',fontweight='bold')\n",
        "DTT.plot(kind='bar')\n",
        "plt.xlabel('Sentiment',fontweight='bold')\n",
        "plt.ylabel('Number of tweets',fontweight='bold');"
      ],
      "execution_count": 60,
      "outputs": [
        {
          "output_type": "display_data",
          "data": {
            "image/png": "[encoded data removed]",
            "text/plain": [
              "<Figure size 576x360 with 1 Axes>"
            ]
          },
          "metadata": {
            "tags": []
          }
        }
      ]
    },
    {
      "cell_type": "code",
      "metadata": {
        "colab": {
          "base_uri": "https://localhost:8080/",
          "height": 385
        },
        "id": "FVtL45RUzyua",
        "outputId": "e28f44d0-5e1a-421d-b692-58a93ebf2038"
      },
      "source": [
        "sns.set_style(\"whitegrid\")\n",
        "plt.figure(figsize=(8,5))\n",
        "JBT=JB_df['Analysis'].value_counts()\n",
        "plt.title('Joe Biden Tweets Sentiment Analysis',fontweight='bold')\n",
        "JBT.plot(kind='bar')\n",
        "plt.xlabel('Sentiment',fontweight='bold')\n",
        "plt.ylabel('Number of tweets',fontweight='bold');"
      ],
      "execution_count": 69,
      "outputs": [
        {
          "output_type": "display_data",
          "data": {
            "image/png": "[encoded data removed]",
            "text/plain": [
              "<Figure size 576x360 with 1 Axes>"
            ]
          },
          "metadata": {
            "tags": []
          }
        }
      ]
    },
    {
      "cell_type": "code",
      "metadata": {
        "id": "MniGK9M8zys5",
        "colab": {
          "base_uri": "https://localhost:8080/",
          "height": 330
        },
        "outputId": "f4ca344d-1424-41ec-e25e-41ee03a7c7b5"
      },
      "source": [
        "DTT\n",
        "data={'Trump':DTT,'Biden':JBT}\n",
        "df=pd.concat(data,axis=1)\n",
        "df.plot(kind='bar')\n",
        "plt.title('Sentiment as per candidate',fontweight='bold')\n",
        "plt.xlabel('Sentiment',fontweight='bold')\n",
        "plt.ylabel('Tweet Count',fontweight='bold');\n",
        "\n"
      ],
      "execution_count": 78,
      "outputs": [
        {
          "output_type": "display_data",
          "data": {
            "image/png": "[encoded data removed]",
            "text/plain": [
              "<Figure size 432x288 with 1 Axes>"
            ]
          },
          "metadata": {
            "tags": []
          }
        }
      ]
    },
    {
      "cell_type": "code",
      "metadata": {
        "id": "RLAGEU_jzyrT",
        "colab": {
          "base_uri": "https://localhost:8080/",
          "height": 350
        },
        "outputId": "964c75b9-7b3f-4f67-b691-9daaa3d3d2d4"
      },
      "source": [
        "DT_df['created_at']=pd.to_datetime(DT_df['created_at'])\n",
        "JB_df['created_at']=pd.to_datetime(JB_df['created_at'])\n",
        "DT_df.created_at[0]\n",
        "plt.figure(figsize=(10,5))\n",
        "plt.hist(DT_df.created_at)\n",
        "plt.title('#DonaldTrump Tweet Volume over time',fontweight='bold')\n",
        "plt.xlabel('Dates',fontweight='bold')\n",
        "plt.ylabel('Tweet Count',fontweight='bold');"
      ],
      "execution_count": 31,
      "outputs": [
        {
          "output_type": "display_data",
          "data": {
            "image/png": "[encoded data removed]",
            "text/plain": [
              "<Figure size 720x360 with 1 Axes>"
            ]
          },
          "metadata": {
            "tags": []
          }
        }
      ]
    },
    {
      "cell_type": "code",
      "metadata": {
        "id": "kwMmaBFHzyou",
        "colab": {
          "base_uri": "https://localhost:8080/",
          "height": 350
        },
        "outputId": "24747f9a-9e60-43db-ed15-4ae3693981db"
      },
      "source": [
        "plt.figure(figsize=(10,5))\n",
        "plt.hist(JB_df.created_at)\n",
        "plt.title('#JoeBiden Tweet Volume over time',fontweight='bold')\n",
        "plt.xlabel('Dates',fontweight='bold')\n",
        "plt.ylabel('Tweet Count',fontweight='bold');"
      ],
      "execution_count": 32,
      "outputs": [
        {
          "output_type": "display_data",
          "data": {
            "image/png": "[encoded data removed]",
            "text/plain": [
              "<Figure size 720x360 with 1 Axes>"
            ]
          },
          "metadata": {
            "tags": []
          }
        }
      ]
    },
    {
      "cell_type": "markdown",
      "metadata": {
        "id": "JNPox4OC4Otg"
      },
      "source": [
        "###**Questions about the data and answers to them**\n",
        "  1.Who have the people tweeted the most about?\n",
        "  \n",
        "  2.How is the sentiment of the tweets of both the candidates?\n",
        "  \n",
        "  3.Who has the higher positive sentiment?\n",
        "  \n",
        "  4.How was the tweet volume over the time?\n"
      ]
    },
    {
      "cell_type": "markdown",
      "metadata": {
        "id": "Dj5zFvEfDx2p"
      },
      "source": [
        "1.Clearly Donald Trump is the most tweeted about when compared with Joe Biden.\n",
        "\n",
        "2.Both have higher volume of neutral tweets from our data,followed by the positive and then negative tweets.\n",
        "\n",
        "3.Donald Trump hsa the higher positive sentiment.And he even has the higher negative sentiment than Joe Biden.\n",
        "\n",
        "4.The tweets for Donald Trump were almost consistent until 1st November 2020, Joe biden had a much lesser volume of tweets on him.It volume rises abruptly between 1 Nov and 5 Nov.Biden's tweets were on the rise and Trump had them increase then fall back again."
      ]
    },
    {
      "cell_type": "markdown",
      "metadata": {
        "id": "oVTCyC_l4OiO"
      },
      "source": [
        "###Summary and Conclusion"
      ]
    },
    {
      "cell_type": "markdown",
      "metadata": {
        "id": "gjwpAbbn4Oe4"
      },
      "source": [
        "The data indicates higher neutral sentiment, I think this is because the way we calculate polarity should be optimised to understand the tweets better to classify them into positive or negative.Otherwise the data indicates lot people speak about Trump than Joe Biden.Tweets show people were engaged with Donald Trump than they were with Biden over a month earlier to the elections. "
      ]
    },
    {
      "cell_type": "code",
      "metadata": {
        "id": "3-aB4EuMma3k"
      },
      "source": [
        ""
      ],
      "execution_count": null,
      "outputs": []
    }
  ]
}